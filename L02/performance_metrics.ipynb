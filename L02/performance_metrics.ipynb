{
 "cells": [
  {
   "cell_type": "markdown",
   "metadata": {},
   "source": [
    "# SWMAL Exercise Performance metrics\n",
    "In this exercise we will take a look at various ways to evaluate your algorithm using performance metrics. We will do this be recreating some of the well known metric formulas in python functions, and comparing them to the version found in the Sklearn.metrics library. These functions will then be tested on the algorithms from the dummy classifier exercise.\n",
    "\n",
    "<img src=\"https://itundervisning.ase.au.dk/SWMAL/L02/Figs/performance_metrics.jpg\" alt=\"WARNING: could not get image from server\" style=\"width:900px\">\n",
    "\n",
    "The following codebit is copied from the dummy classifier exercise, and will therefore not be described further.\n"
   ]
  },
  {
   "cell_type": "code",
   "execution_count": 122,
   "metadata": {},
   "outputs": [
    {
     "name": "stderr",
     "output_type": "stream",
     "text": [
      "c:\\Users\\oscar\\AppData\\Local\\Programs\\Python\\Python311\\Lib\\site-packages\\sklearn\\datasets\\_openml.py:1002: FutureWarning: The default value of `parser` will change from `'liac-arff'` to `'auto'` in 1.4. You can set `parser='auto'` to silence this warning. Therefore, an `ImportError` will be raised from 1.4 if the dataset is dense and pandas is not installed. Note that the pandas parser may return different data types. See the Notes Section in fetch_openml's API doc for details.\n",
      "  warn(\n"
     ]
    }
   ],
   "source": [
    "from sklearn.datasets import fetch_openml\n",
    "import matplotlib\n",
    "import matplotlib.pyplot as plt\n",
    "from sklearn.linear_model import SGDClassifier\n",
    "from sklearn.metrics import accuracy_score\n",
    "import numpy as np\n",
    "\n",
    "\n",
    "\n",
    "# Function to fetch the MNIST dataset\n",
    "def MNIST_GetDataSet():\n",
    "    X,y = fetch_openml('mnist_784', version=1, return_X_y=True, as_frame = False)\n",
    "    return X,y\n",
    "# Fetches X and y\n",
    "X,y = MNIST_GetDataSet()\n",
    "\n",
    "# Split the data into training and testing sets\n",
    "X_train, X_test, y_train, y_test = X[:60000], X[60000:], y[:60000], y[60000:]\n",
    "\n",
    "# Create binary target variable y_train_5 with the digit '5' as true\n",
    "y_train_5 = (y_train == '5')   # True for all 5s, False for all other digits\n",
    "# Create binary target variable for the testing set\n",
    "y_test_5  = (y_test == '5')\n",
    "\n",
    "# Create a SGDClassifier which will classify if a digit is a 5 or not\n",
    "sgd_clf = SGDClassifier(random_state=42)\n",
    "\n",
    "# Train the classifier using the training data\n",
    "sgd_clf.fit(X_train, y_train_5)\n",
    "#Convert to [0;1] via scaling\n",
    "X = X / 255.\n",
    "y_pred_sdg = sgd_clf.predict(X_test)\n",
    "\n",
    "\n",
    "#Check if data is loaded\n",
    "\n",
    "class DummyClassifier():\n",
    "    def fit(self, X, y):\n",
    "        # does not require any training, only memorizes the unique classes in y.\n",
    "        self.classes_ = np.unique(y)\n",
    "        self.dummy_class_ = np.argmax(np.bincount(y))  # Select the most frequent class as the dummy class\n",
    "        return self\n",
    "\n",
    "    def predict(self, X):\n",
    "        # Returns array of the same length as X with the dummy class label\n",
    "        return np.full(X.shape[0], fill_value=self.dummy_class_)\n",
    "\n",
    "\n",
    "dummy_clf = DummyClassifier()\n",
    "dummy_clf.fit(X_train, y_train_5)\n",
    "y_pred_dummy = dummy_clf.predict(X_train)\n",
    "\n"
   ]
  },
  {
   "cell_type": "markdown",
   "metadata": {},
   "source": [
    "#### Qa Implement the Accuracy function and test it on the MNIST data.\n",
    "\n",
    "an accuracy function will be created called MyAccuracy. It will return how many elements where predicted correctly. Furthermore a test function will be created. This function will use both the selfmade function and the sklearn version for validation. The testfunction will then be used on a simple example, the sdg and the dummy."
   ]
  },
  {
   "cell_type": "code",
   "execution_count": 123,
   "metadata": {},
   "outputs": [
    {
     "name": "stdout",
     "output_type": "stream",
     "text": [
      "\n",
      "TestAccuracy() simple example:\n",
      "\n",
      "my a          =0.75\n",
      "scikit-learn a=0.75\n",
      "\n",
      "TestAccuracy() on sdg:\n",
      "\n",
      "my a          =0.9492\n",
      "scikit-learn a=0.9492\n",
      "\n",
      "TestAccuracy() on dummy:\n",
      "\n",
      "my a          =0.90965\n",
      "scikit-learn a=0.90965\n"
     ]
    }
   ],
   "source": [
    "# TODO: Qa...\n",
    "from sklearn.metrics import accuracy_score\n",
    "\n",
    "\n",
    "def MyAccuracy(y_true, y_pred):\n",
    "    if len(y_true)==0 or len(y_pred)==0:\n",
    "        return 0\n",
    "    y_correctPred=[]\n",
    "    for i in range(len(y_true)):\n",
    "        if y_true[i]==y_pred[i]:\n",
    "            y_correctPred.append(y_pred[i])\n",
    "    return len(y_correctPred)/len(y_true)\n",
    "\n",
    "\n",
    "    \n",
    "# TEST FUNCTION: example of a comperator, using Scikit-learn accuracy_score\n",
    "def TestAccuracy(y_true, y_pred):\n",
    "    if len(y_true) != len(y_pred):\n",
    "      print(\"Error: Input arrays have different lengths.\")\n",
    "      return\n",
    "    a0=MyAccuracy(y_true, y_pred)\n",
    "    a1=accuracy_score(y_true, y_pred)\n",
    "\n",
    "    print(f\"\\nmy a          ={a0}\")\n",
    "    print(f\"scikit-learn a={a1}\")\n",
    "\n",
    "print(\"\\nTestAccuracy() simple example:\")\n",
    "TestAccuracy([1,2,3,4], [1,2,3,3])\n",
    "\n",
    "print(\"\\nTestAccuracy() on sdg:\")\n",
    "TestAccuracy(y_test_5, y_pred_sdg)\n",
    "print(\"\\nTestAccuracy() on dummy:\")\n",
    "TestAccuracy(y_train_5, y_pred_dummy)\n",
    "\n",
    "#    # do some numerical comparison here, like\n",
    "#    #  if fabs(a0-a1)<eps then .."
   ]
  },
  {
   "cell_type": "markdown",
   "metadata": {},
   "source": [
    "#### Qb Implement Precision, Recall and $F_1$-score and test it on the MNIST data for both the SGD and Dummy classifier models\n",
    "\n",
    "In the following section a function and test function is created in the same way as with the previous function from Qa. This is done for the precision-, recall- and F1-score respectively.  "
   ]
  },
  {
   "cell_type": "code",
   "execution_count": 124,
   "metadata": {},
   "outputs": [
    {
     "name": "stdout",
     "output_type": "stream",
     "text": [
      "\n",
      "TestPrecision() simple example:\n",
      "\n",
      "my p        =0.6666666666666666\n",
      "scikit-learn p=0.6666666666666666\n",
      "\n",
      "TestPrecision() on sdg:\n",
      "\n",
      "my p        =0.6618887015177066\n",
      "scikit-learn p=0.6618887015177066\n",
      "\n",
      "TestPrecision() on dummy:\n",
      "\n",
      "my p        =0\n",
      "scikit-learn p=0.0\n"
     ]
    },
    {
     "name": "stderr",
     "output_type": "stream",
     "text": [
      "c:\\Users\\oscar\\AppData\\Local\\Programs\\Python\\Python311\\Lib\\site-packages\\sklearn\\metrics\\_classification.py:1469: UndefinedMetricWarning: Precision is ill-defined and being set to 0.0 due to no predicted samples. Use `zero_division` parameter to control this behavior.\n",
      "  _warn_prf(average, modifier, msg_start, len(result))\n"
     ]
    }
   ],
   "source": [
    "# TODO: Qb..\n",
    "import sklearn.metrics as metrics\n",
    "def MyPrecision(y_true, y_pred):\n",
    "    #predicted condition positive. All the predicted trues\n",
    "    pcp = [item for item in y_pred if item == True]\n",
    "    if len(pcp)==0:\n",
    "        return 0\n",
    "    y_correctPred=[]\n",
    "    for i in range(len(y_true)):\n",
    "        if y_true[i]==True and y_pred[i]==True:\n",
    "            y_correctPred.append(y_pred[i])\n",
    "    return len(y_correctPred)/len(pcp)\n",
    "\n",
    "def TestPrecision(y_true, y_pred):\n",
    "    if len(y_true) != len(y_pred):\n",
    "      print(\"Error: Input arrays have different lengths.\")\n",
    "      return\n",
    "    p0=MyPrecision(y_true, y_pred)\n",
    "    p1=metrics.precision_score(y_true, y_pred)\n",
    "\n",
    "    print(f\"\\nmy p        ={p0}\")\n",
    "    print(f\"scikit-learn p={p1}\")\n",
    "\n",
    "print(\"\\nTestPrecision() simple example:\")\n",
    "TestPrecision([True,True,False,True], [True,True,True,False])\n",
    "print(\"\\nTestPrecision() on sdg:\")\n",
    "TestPrecision(y_test_5, y_pred_sdg)\n",
    "print(\"\\nTestPrecision() on dummy:\")\n",
    "TestPrecision(y_train_5, y_pred_dummy)\n",
    "\n",
    "\n",
    "\n",
    "\n",
    "    \n"
   ]
  },
  {
   "cell_type": "markdown",
   "metadata": {},
   "source": [
    "the precision metric can be used to identify the ration between true positives and false positives. We see in the simple example that the methods filter out the predicted false, and just evaluates the 3 trues. This results in a score of 66%. By using it on the data from the dummy exercise we furthermore see that the dummy get 0% because it only guesses false and the SDG get about 2/3. This means that about 1/3 of the numbers the algorithm thinks is a five actually arent a 5. In the real world this would be horrible if it fx was used to convict crimminals where you are innocent until proven guilty."
   ]
  },
  {
   "cell_type": "code",
   "execution_count": 125,
   "metadata": {},
   "outputs": [
    {
     "name": "stdout",
     "output_type": "stream",
     "text": [
      "\n",
      "TestRecall() simple example:\n",
      "\n",
      "my r        =0.75\n",
      "scikit-learn r=0.75\n",
      "\n",
      "TestRecall() on sdg:\n",
      "\n",
      "my r        =0.8800448430493274\n",
      "scikit-learn r=0.8800448430493274\n",
      "\n",
      "TestRecall() on dummy:\n",
      "\n",
      "my r        =0.0\n",
      "scikit-learn r=0.0\n"
     ]
    }
   ],
   "source": [
    "def MyRecall(y_true, y_pred):\n",
    "    #condition positive\n",
    "    cp = [item for item in y_true if item == True]\n",
    "    y_correctPred=[]\n",
    "    for i in range(len(y_true)):\n",
    "        if y_true[i]==True and y_pred[i]==True:\n",
    "            y_correctPred.append(y_pred[i])\n",
    "    return len(y_correctPred)/len(cp)\n",
    "\n",
    "def TestRecall(y_true, y_pred):\n",
    "    if len(y_true) != len(y_pred):\n",
    "      print(\"Error: Input arrays have different lengths.\")\n",
    "      return\n",
    "    r0=MyRecall(y_true, y_pred)\n",
    "    r1=metrics.recall_score(y_true, y_pred)\n",
    "\n",
    "    print(f\"\\nmy r        ={r0}\")\n",
    "    print(f\"scikit-learn r={r1}\")\n",
    "\n",
    "print(\"\\nTestRecall() simple example:\")\n",
    "TestRecall([True,True,True,True], [True,True,True,False])\n",
    "print(\"\\nTestRecall() on sdg:\")\n",
    "TestRecall(y_test_5, y_pred_sdg)\n",
    "print(\"\\nTestRecall() on dummy:\")\n",
    "TestRecall(y_train_5, y_pred_dummy)"
   ]
  },
  {
   "cell_type": "markdown",
   "metadata": {},
   "source": [
    "The recall metric tells us about the ratio between true positives and false negatives. Through this metric we can observe how many positives fall through and therefore aren't noticed by the algorithm. \n",
    "The results show us that the sdg-is quite good at finding the 5's very few 5's slip through the algorithm even though it also identifies some numbers as 5's that arent 5's.\n",
    "In the real world it would be important in fx sickness detection where it is important to find and treat all the cases and it is probably fine if a a few false positives are sent through further investigation."
   ]
  },
  {
   "cell_type": "code",
   "execution_count": 131,
   "metadata": {},
   "outputs": [
    {
     "name": "stdout",
     "output_type": "stream",
     "text": [
      "\n",
      "TestF1Score() simple example:\n",
      "\n",
      "my f        =0.4\n",
      "scikit-learn f=0.4\n",
      "\n",
      "TestF1Score() on sdg:\n",
      "\n",
      "my f        =0.7555341674687199\n",
      "scikit-learn f=0.75553416746872\n",
      "\n",
      "TestF1Score() on dummy:\n",
      "\n",
      "my f        =0\n",
      "scikit-learn f=0.0\n"
     ]
    }
   ],
   "source": [
    "def MyF1Score(y_true, y_pred):\n",
    "    p = MyPrecision(y_true, y_pred)\n",
    "\n",
    "    r = MyRecall(y_true, y_pred)\n",
    "    if p==0 or r==0:\n",
    "        return 0\n",
    "    return 2/((1/p)+(1/r))\n",
    "\n",
    "def TestF1Score(y_true, y_pred):\n",
    "    if len(y_true) != len(y_pred):\n",
    "      print(\"Error: Input arrays have different lengths.\")\n",
    "      return\n",
    "    f0=MyF1Score(y_true, y_pred)\n",
    "    f1=metrics.f1_score(y_true, y_pred)\n",
    "\n",
    "    print(f\"\\nmy f        ={f0}\")\n",
    "    print(f\"scikit-learn f={f1}\")\n",
    "\n",
    "print(\"\\nTestF1Score() simple example:\")\n",
    "TestF1Score([True,True,False,True], [True,False,True,False])\n",
    "print(\"\\nTestF1Score() on sdg:\")\n",
    "TestF1Score(y_test_5, y_pred_sdg)\n",
    "print(\"\\nTestF1Score() on dummy:\")\n",
    "TestF1Score(y_train_5, y_pred_dummy)"
   ]
  },
  {
   "cell_type": "markdown",
   "metadata": {},
   "source": [
    "The F1 score takes both the recall, and the precision into account which means the sdg-score lands somewhere between the two scores. Through this metric we identify how often false positives and false negatives occur without looking at the true negatives."
   ]
  },
  {
   "cell_type": "markdown",
   "metadata": {},
   "source": [
    "#### Qc The Confusion Matrix\n",
    "In this section we will construct 3 confusion matrices. One for the both the sdg and the dummy, aswell as one where the input params are switched for the sdg confusion matrices."
   ]
  },
  {
   "cell_type": "code",
   "execution_count": 127,
   "metadata": {},
   "outputs": [
    {
     "name": "stdout",
     "output_type": "stream",
     "text": [
      "sdg:\n",
      "[[8707  401]\n",
      " [ 107  785]]\n",
      "\n",
      "dummy:\n",
      "[[54579     0]\n",
      " [ 5421     0]]\n",
      "\n",
      "sdg reversed:\n",
      "[[8707  107]\n",
      " [ 401  785]]\n"
     ]
    }
   ],
   "source": [
    "# TODO: Qc\n",
    "from sklearn.metrics import confusion_matrix\n",
    "cm_sdg = confusion_matrix(y_test_5, y_pred)\n",
    "cm_sdg_reversed = confusion_matrix(y_pred, y_test_5)\n",
    "\n",
    "\n",
    "cm_dummy = confusion_matrix(y_train_5, y_pred_dummy)\n",
    "print(\"sdg:\")\n",
    "print(cm_sdg)\n",
    "\n",
    "print(\"\\ndummy:\")\n",
    "print(cm_dummy)\n",
    "\n",
    "print(\"\\nsdg reversed:\")\n",
    "print(cm_sdg_reversed)"
   ]
  },
  {
   "cell_type": "markdown",
   "metadata": {},
   "source": [
    "In the above results we can see the matrices follow the binary system where 0=false and 1=true. From the dummy matrix we can gather the columns are the predicted values since there are none in column 1 (0-indexed) and there fore the rows must be the true condition. This means the first spot is the true negatives and that adds up with what is known about the dummys result so far. \n",
    "Furthermore we see that if we swap the input parameters the false positives and true negatives swap places. But the accuracy stays the same. "
   ]
  },
  {
   "cell_type": "markdown",
   "metadata": {},
   "source": [
    "#### Qd A Confusion Matrix Heat-map\n",
    "\n",
    "Now we will generate a heat map for this confusion matrices."
   ]
  },
  {
   "cell_type": "code",
   "execution_count": 128,
   "metadata": {},
   "outputs": [
    {
     "data": {
      "image/png": "[encoded data removed]",
      "text/plain": [
       "<Figure size 640x480 with 2 Axes>"
      ]
     },
     "metadata": {},
     "output_type": "display_data"
    },
    {
     "data": {
      "image/png": "[encoded data removed]",
      "text/plain": [
       "<Figure size 640x480 with 2 Axes>"
      ]
     },
     "metadata": {},
     "output_type": "display_data"
    }
   ],
   "source": [
    "from sklearn.metrics import ConfusionMatrixDisplay\n",
    "\n",
    "plt.rc('font', size=9)  # extra code – make the text smaller\n",
    "ConfusionMatrixDisplay.from_predictions(y_train_5,y_pred_dummy) \n",
    "plt.show()\n",
    "\n",
    "ConfusionMatrixDisplay.from_predictions(y_test_5,y_pred_sdg)\n",
    "plt.show()"
   ]
  },
  {
   "cell_type": "markdown",
   "metadata": {},
   "source": [
    "### Qe Conclusion\n",
    "\n",
    "In this exercise, we evaluated classification algorithms using custom Python metrics and scikit-learn's functions. We assessed precision, accuracy, recall, and the F1-score for an SGD classifier and a Dummy classifier. The SGD classifier outperformed the Dummy classifier in all metrics. However the dummy clasifier was significantly closer in accuracy. Therefore this exercise was meant to show us some important metrics to use when evaluating your algorithm. These metrics are of course use case specific. Fx it could be a good idea to have a high precision when judging criminals or have a high recall/sensitivity when scanning for diseases. Furthermore the F1-score is usefull if you don't care as much about the true negatives as it takes both into account. As is the case for the \"is it a 5?\"-algorithm and therefore the F1 provides us with a more accurate assesment of how useful the sdg algorithm and dummy-classifier are with thier ~75% and 0% respectively \n",
    "\n",
    " Furthermore Confusion matrices and heatmaps provided detailed insights into their performance, and granted us a good visual component for the metrics."
   ]
  }
 ],
 "metadata": {
  "kernelspec": {
   "display_name": "Python 3 (ipykernel)",
   "language": "python",
   "name": "python3"
  },
  "language_info": {
   "codemirror_mode": {
    "name": "ipython",
    "version": 3
   },
   "file_extension": ".py",
   "mimetype": "text/x-python",
   "name": "python",
   "nbconvert_exporter": "python",
   "pygments_lexer": "ipython3",
   "version": "3.11.5"
  },
  "varInspector": {
   "cols": {
    "lenName": 16,
    "lenType": 16,
    "lenVar": 40
   },
   "kernels_config": {
    "python": {
     "delete_cmd_postfix": "",
     "delete_cmd_prefix": "del ",
     "library": "var_list.py",
     "varRefreshCmd": "print(var_dic_list())"
    },
    "r": {
     "delete_cmd_postfix": ") ",
     "delete_cmd_prefix": "rm(",
     "library": "var_list.r",
     "varRefreshCmd": "cat(var_dic_list()) "
    }
   },
   "types_to_exclude": [
    "module",
    "function",
    "builtin_function_or_method",
    "instance",
    "_Feature"
   ],
   "window_display": true
  }
 },
 "nbformat": 4,
 "nbformat_minor": 2
}
