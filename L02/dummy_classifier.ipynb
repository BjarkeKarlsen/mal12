{
 "cells": [
  {
   "cell_type": "markdown",
   "metadata": {},
   "source": [
    "# SWMAL Exercise\n",
    "\n",
    "## Implementing a dummy binary-classifier with fit-predict interface\n",
    "\n",
    "In this exercise we will working with the MNIST data-set and reuse the data loader from Scikit-learn. Next we create a dummy classifier, and compare the results of the SGD and dummy classifiers using the MNIST data.\n",
    "\n",
    "#### Qa  Load and display the MNIST data\n",
    "\n",
    "We will fetch the MNIST data with a `sklearn.datasets.fetch_openml` dataloader interface in Scikit-learn. \n",
    "\n",
    "Two functions are created. One to fetch the data-set and one to plot a single digit. "
   ]
  },
  {
   "cell_type": "code",
   "execution_count": 1,
   "metadata": {},
   "outputs": [
    {
     "name": "stderr",
     "output_type": "stream",
     "text": [
      "/Users/my-thanh/anaconda3/lib/python3.11/site-packages/sklearn/datasets/_openml.py:968: FutureWarning: The default value of `parser` will change from `'liac-arff'` to `'auto'` in 1.4. You can set `parser='auto'` to silence this warning. Therefore, an `ImportError` will be raised from 1.4 if the dataset is dense and pandas is not installed. Note that the pandas parser may return different data types. See the Notes Section in fetch_openml's API doc for details.\n",
      "  warn(\n"
     ]
    },
    {
     "name": "stdout",
     "output_type": "stream",
     "text": [
      "Number of samples: 70000\n",
      "Label of the digit: 4\n"
     ]
    },
    {
     "data": {
      "image/png": "[encoded data removed]",
      "text/plain": [
       "<Figure size 640x480 with 1 Axes>"
      ]
     },
     "metadata": {},
     "output_type": "display_data"
    }
   ],
   "source": [
    "from sklearn.datasets import fetch_openml\n",
    "import matplotlib\n",
    "import matplotlib.pyplot as plt\n",
    "\n",
    "# Function to fetch the MNIST dataset\n",
    "def MNIST_GetDataSet():\n",
    "    X,y = fetch_openml('mnist_784', version=1, return_X_y=True, as_frame = False)\n",
    "    return X,y\n",
    "\n",
    "\n",
    "# Function to plot a digit\n",
    "%matplotlib inline\n",
    "def MNIST_PlotDigit(data):\n",
    "    image = data.reshape(28, 28)\n",
    "    plt.imshow(image, cmap = matplotlib.cm.binary, interpolation=\"nearest\")\n",
    "    plt.axis(\"off\")\n",
    "\n",
    "# Fetches X and y\n",
    "X,y = MNIST_GetDataSet()\n",
    "\n",
    "#Convert to [0;1] via scaling\n",
    "X = X / 255.\n",
    "\n",
    "#Check if data is loaded\n",
    "print(\"Number of samples:\", len(X))\n",
    "\n",
    "\n",
    "digit_to_plot = X[9]  # The index is 9 for the 10th digit (0-based index)\n",
    "\n",
    "#Check what number the image is representing\n",
    "print(\"Label of the digit:\", y[9])\n",
    "\n",
    "MNIST_PlotDigit(digit_to_plot)\n"
   ]
  },
  {
   "cell_type": "markdown",
   "metadata": {},
   "source": [
    "As we can see, a random digit is chosen (9). The image is shown and the y_true is 4."
   ]
  },
  {
   "cell_type": "markdown",
   "metadata": {},
   "source": [
    "#### Qb  Add a Stochastic Gradient Decent [SGD] Classifier\n",
    "In this section we create a train-test data-set for MNIST and use the `SGDClassifier` as done in [HOML].\n",
    "\n",
    "We split the data and run the fit-predict for the classifier using the MNIST data.\n",
    "We will try to predict and identify one-digit. In this example we will try to detect if the image shows the number 5. This “5-detector” will be an example of a binary classifier, capable of distinguishing between just two classes, 5 and non-5.\n",
    "We will also see if there are any missclassified. \n"
   ]
  },
  {
   "cell_type": "code",
   "execution_count": 39,
   "metadata": {},
   "outputs": [
    {
     "name": "stdout",
     "output_type": "stream",
     "text": [
      "X.shape=(70000, 784)\n",
      "Misclassified numbers: [0 1 2]\n",
      "Predicted Label: False\n"
     ]
    },
    {
     "data": {
      "image/png": "[encoded data removed]",
      "text/plain": [
       "<Figure size 640x480 with 1 Axes>"
      ]
     },
     "metadata": {},
     "output_type": "display_data"
    },
    {
     "name": "stdout",
     "output_type": "stream",
     "text": [
      "Predicted Label: False\n"
     ]
    },
    {
     "data": {
      "image/png": "[encoded data removed]",
      "text/plain": [
       "<Figure size 640x480 with 1 Axes>"
      ]
     },
     "metadata": {},
     "output_type": "display_data"
    },
    {
     "name": "stdout",
     "output_type": "stream",
     "text": [
      "Predicted Label: False\n"
     ]
    },
    {
     "data": {
      "image/png": "[encoded data removed]",
      "text/plain": [
       "<Figure size 640x480 with 1 Axes>"
      ]
     },
     "metadata": {},
     "output_type": "display_data"
    }
   ],
   "source": [
    "# TODO: add your code here..\n",
    "import numpy as np\n",
    "from sklearn.linear_model import SGDClassifier\n",
    "\n",
    "#reshapes X to 2D array if not already\n",
    "if X.ndim==3:\n",
    "    print(\"reshaping X..\")\n",
    "    assert y.ndim==1\n",
    "    X = X.reshape((X.shape[0],X.shape[1]*X.shape[2]))\n",
    "assert X.ndim==2\n",
    "print(f\"X.shape={X.shape}\") # X.shape= (70000, 784)\n",
    "\n",
    "# Split the data into training and testing sets\n",
    "X_train, X_test, y_train, y_test = X[:60000], X[60000:], y[:60000], y[60000:]\n",
    "\n",
    "# Create binary target variable y_train_5 with the digit '5' as true\n",
    "y_train_5 = (y_train == '5')   # True for all 5s, False for all other digits\n",
    "# Create binary target variable for the testing set\n",
    "y_test_5  = (y_test == '5')\n",
    "\n",
    "# Create a SGDClassifier which will classify if a digit is a 5 or not\n",
    "sgd_clf = SGDClassifier(random_state=42)\n",
    "\n",
    "# Train the classifier using the training data\n",
    "sgd_clf.fit(X_train, y_train_5)\n",
    "\n",
    "y_pred = sgd_clf.predict(X_test)\n",
    "\n",
    "classified_numbers = np.where(y_pred == y_test_5)[0]\n",
    "\n",
    "for number in classified_numbers[:3]:\n",
    "    MNIST_PlotDigit(X_test[number])\n",
    "    # Predict if the digit is a 5 or not\n",
    "    prediction = sgd_clf.predict([X_test[number]])  # Provide the data sample\n",
    "    print(f\"Predicted Label: {prediction[0]}\")\n",
    "    plt.show()\n"
   ]
  },
  {
   "cell_type": "markdown",
   "metadata": {},
   "source": [
    "Given a loop that iterates through the first 3 instances where y_pred = y_test_5 (correctly classified numbers), we see that the predicted labels are consistent with images"
   ]
  },
  {
   "cell_type": "code",
   "execution_count": 41,
   "metadata": {},
   "outputs": [
    {
     "name": "stdout",
     "output_type": "stream",
     "text": [
      "Predicted Label: False\n"
     ]
    },
    {
     "data": {
      "image/png": "[encoded data removed]",
      "text/plain": [
       "<Figure size 640x480 with 1 Axes>"
      ]
     },
     "metadata": {},
     "output_type": "display_data"
    },
    {
     "name": "stdout",
     "output_type": "stream",
     "text": [
      "Predicted Label: False\n"
     ]
    },
    {
     "data": {
      "image/png": "[encoded data removed]",
      "text/plain": [
       "<Figure size 640x480 with 1 Axes>"
      ]
     },
     "metadata": {},
     "output_type": "display_data"
    },
    {
     "name": "stdout",
     "output_type": "stream",
     "text": [
      "Predicted Label: False\n"
     ]
    },
    {
     "data": {
      "image/png": "[encoded data removed]",
      "text/plain": [
       "<Figure size 640x480 with 1 Axes>"
      ]
     },
     "metadata": {},
     "output_type": "display_data"
    }
   ],
   "source": [
    "# Find misclassified instances\n",
    "misclassified_numbers = np.where(y_pred != y_test_5)[0]\n",
    "classified_numbers = np.where(y_pred == y_test_5)[0]\n",
    "\n",
    "for number in misclassified_numbers[:3]:\n",
    "    MNIST_PlotDigit(X_test[number])\n",
    "    prediction = sgd_clf.predict([X_test[number]])  # Provide the data sample\n",
    "    print(f\"Predicted Label: {prediction[0]}\")\n",
    "\n",
    "    plt.show()\n"
   ]
  },
  {
   "cell_type": "markdown",
   "metadata": {},
   "source": [
    "In the same way, we identified some digits that were missclassified. It seems that it is not always precise. "
   ]
  },
  {
   "cell_type": "markdown",
   "metadata": {},
   "source": [
    "#### Qc Implement a dummy binary classifier\n",
    "\n",
    "In this section we try to create a dummy classifier that just classifies every single image in class of the majority, which in this case is the non-5 class.\n",
    "We call the fit-predict on our dummy class and extract the accuract score from the test data."
   ]
  },
  {
   "cell_type": "code",
   "execution_count": 6,
   "metadata": {},
   "outputs": [
    {
     "name": "stdout",
     "output_type": "stream",
     "text": [
      "False\n"
     ]
    },
    {
     "data": {
      "text/plain": [
       "0.90965"
      ]
     },
     "execution_count": 6,
     "metadata": {},
     "output_type": "execute_result"
    }
   ],
   "source": [
    "\n",
    "from sklearn.metrics import accuracy_score\n",
    "import numpy as np\n",
    "\n",
    "class DummyClassifier():\n",
    "    def fit(self, X, y):\n",
    "        # does not require any training, only memorizes the unique classes in y.\n",
    "        self.classes_ = np.unique(y)\n",
    "        self.dummy_class_ = np.argmax(np.bincount(y))  # Select the most frequent class as the dummy class\n",
    "        return self\n",
    "\n",
    "    def predict(self, X):\n",
    "        # Returns array of the same length as X with the dummy class label\n",
    "        return np.full(X.shape[0], fill_value=self.dummy_class_)\n",
    "\n",
    "\n",
    "dummy_clf = DummyClassifier()\n",
    "dummy_clf.fit(X_train, y_train_5)\n",
    "y_pred = dummy_clf.predict(X_train)\n",
    "print(any(y_pred)) #predicts if any of the digits is a 5, gives a False\n",
    "\n",
    "accuracy_score(y_train_5, y_pred)\n",
    "#90% accuracy, just like in HOML\n"
   ]
  },
  {
   "cell_type": "markdown",
   "metadata": {},
   "source": [
    "With the dummy class every digit is a non-5. \n",
    "When we extract the accuracy score we get the same score as in HOML. "
   ]
  },
  {
   "cell_type": "markdown",
   "metadata": {},
   "source": [
    "### Qd Conclusion\n",
    "\n",
    "As seen in the exercise we can use the SGDClassifier to train our data-set from MNIST. Through the exercise we can conclude that the train and test fits and has some correct predictions and some incorrect predictions. \n",
    "When testing the performance measures for the classifier it is a bit tricky to evaluate. We see that we get a 90% accuracy score for our DummyClassifier, which only spits a false out for every digit. But because the majority for the digits are non-5 (90% of them), this will then be our score. In this case, the accuracy score does not represent how good/fit our model is at all. We can therefore conclude, that it is not always preferred so use accuracy to define the performance measures when dealing with classifiers. Especially not, in data-sets where some classes are much more frequent than others. \n",
    "\n",
    "\n"
   ]
  }
 ],
 "metadata": {
  "kernelspec": {
   "display_name": "Python 3 (ipykernel)",
   "language": "python",
   "name": "python3"
  },
  "language_info": {
   "codemirror_mode": {
    "name": "ipython",
    "version": 3
   },
   "file_extension": ".py",
   "mimetype": "text/x-python",
   "name": "python",
   "nbconvert_exporter": "python",
   "pygments_lexer": "ipython3",
   "version": "3.11.3"
  },
  "varInspector": {
   "cols": {
    "lenName": 16,
    "lenType": 16,
    "lenVar": 40
   },
   "kernels_config": {
    "python": {
     "delete_cmd_postfix": "",
     "delete_cmd_prefix": "del ",
     "library": "var_list.py",
     "varRefreshCmd": "print(var_dic_list())"
    },
    "r": {
     "delete_cmd_postfix": ") ",
     "delete_cmd_prefix": "rm(",
     "library": "var_list.r",
     "varRefreshCmd": "cat(var_dic_list()) "
    }
   },
   "position": {
    "height": "144.517px",
    "left": "1230px",
    "right": "20px",
    "top": "119px",
    "width": "350px"
   },
   "types_to_exclude": [
    "module",
    "function",
    "builtin_function_or_method",
    "instance",
    "_Feature"
   ],
   "window_display": true
  }
 },
 "nbformat": 4,
 "nbformat_minor": 2
}
