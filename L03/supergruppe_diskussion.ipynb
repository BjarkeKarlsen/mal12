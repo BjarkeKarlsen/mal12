{
 "cells": [
  {
   "cell_type": "markdown",
   "metadata": {},
   "source": [
    "# SWMAL Exercise\n",
    "\n",
    "\n",
    "## Supergruppe diskussion\n",
    "\n",
    "\n",
    "## § 2 \"End-to-End Machine Learning Project\" [HOML]\n",
    "\n",
    "Genlæs kapitel  § 2 og forbered mundtlig præsentation.\n",
    "\n",
    "## Forberedelse inden lektionen\n",
    "\n",
    "Een eller flere af gruppe medlemmer forbereder et mundtligt resume af § 2:\n",
    "\n",
    "* i skal kunne give et kort mundligt resume af hele § 2 til en anden gruppe (på nær, som nævnt, Create the Workspace og Download the Data),\n",
    "\n",
    "* resume holdes til koncept-plan, dvs. prøv at genfortælle, hvad de overordnede linier er i kapitlerne i [HOML].\n",
    "\n",
    "Lav et kort skriftlig resume af de enkelte underafsnit, ca. 5 til 20 liners tekst, se \"TODO\"-template herunder (MUST, til O2 aflevering).\n",
    "\n",
    "Kapitler (incl. underkapitler):\n",
    "\n",
    "* _Look at the Big Picture,_\n",
    "* _Get the Data,_\n",
    "* _Explore and Visualize the Data to Gain Insights,_ \n",
    "* _Prepare the Data for Machine Learning Algorithms,_\n",
    "* _Select and Train a Model,_\n",
    "* _Fine-Tune Your Model,_\n",
    "* _Launch, Monitor, and Maintain Your System,_\n",
    "* _Try It Out!._\n",
    "\n",
    "## På klassen\n",
    "\n",
    "Supergruppe [SG] resume af § 2 End-to-End, ca. 30 til 45 min.\n",
    "\n",
    "* en supergruppe [SG], sammensættes af to grupper [G], on-the-fly på klassen,\n",
    "\n",
    "* hver gruppe [G] forbereder og giver en anden gruppe [G] et mundtligt resume af § 2 til en anden gruppe,\n",
    "\n",
    "* tid: ca. 30 mim. sammenlagt, den ene grupper genfortæller første halvdel af § 2 i ca. 15 min., hvorefter den anden gruppe genfortæller resten i ca. 15 min."
   ]
  },
  {
   "cell_type": "markdown",
   "metadata": {},
   "source": [
    "#### Resume: Look at the Big Picture\n",
    "\n",
    "You have to frame the problem, and figure out what you are trying to solve. What is the core issue? Is it a reggression or classification task? \n",
    "Furthermore you have to select performance messures. fx Accuracy isn't very good when evaluating a digit evaluator.\n",
    "finally you have to check your assumptions. If you assume it is a regression task, but find out it is converted to a classification task down stream. Then that really sucks.\n",
    "\n",
    "#### Resume: Get the Data\n",
    "\n",
    "This segment talks about how to use jupyter notebooks which is presumed to be the thing we should skip summarising. \n",
    "When you aquire your data you should take a look at a few elements to ensure you know what types of data you are dealing with. \n",
    "The method describe() or hist can also give som standard statistical analysis to help you get a feel for the data.\n",
    "At this stage you should also create you test set, by shuffling the data and setting about 20% aside for testing.\n",
    "It needs to be shuffled so the algorithm doesnt just figure out every number is larger than the last fx.\n",
    "You should seed you shuffling so you get the same one each time. Otherwise if you train an algorithm on the same set several times it will end up knowing the whole set.\n",
    "You also need to ensure you data is representative of the true data population, otherwise you should consider stratifying your dataset.\n",
    "\n",
    "\n",
    "#### Resume: Explore and Visualize the Data to Gain Insights,\n",
    "\n",
    "It is a good idea to visualize the data through heatmaps/histograms. So you can find \n",
    "#### Resume: Prepare the Data for Machine Learning Algorithms\n",
    "\n",
    "You need to find a strategy for handling missing datapoints such as entries missing some attributes. you can either remove them, use the median, or if you want to get fancy use the k-nearest neighbour.\n",
    "Furthermore machine learning models prefer numbers, and tend to skew towards numbers with larger intervals. Therfore it could be a good idea to standerdize your data to be between -1 - 1. This can be done by scaling all the \n",
    "\n",
    "#### Resume: Select and Train a Model\n",
    "\n",
    "TODO resume..\n",
    "\n",
    "#### Resume: Fine-Tune Your Model\n",
    "\n",
    "TODO resume..\n",
    "\n",
    "#### Resume: Launch, Monitor, and Maintain Your System\n",
    "\n",
    "TODO resume..\n",
    "\n",
    "#### Resume: Try It Out!.\n",
    "\n",
    "TODO resume.."
   ]
  },
  {
   "cell_type": "markdown",
   "metadata": {},
   "source": [
    "REVISIONS||\n",
    "---------||\n",
    "2019-01-28| CEF, initial.\n",
    "2020-02-05| CEF, F20 ITMAL update.\n",
    "2021-08-17| CEF, E21 ITMAL update.\n",
    "2021-09-17| CEF, corrected some spell errors.\n",
    "2022-01-28| CEF, update to F22 SWMAL.\n",
    "2022-09-09| CEF, corrected 'MUST for O1' to 'MUST for O2' in text.\n",
    "2023-02-13| CEF, updated to HOML 3rd, removed exclude subsections in 'Get the Data' in this excercise, since the parts with python environments has been removed in HOML."
   ]
  }
 ],
 "metadata": {
  "kernelspec": {
   "display_name": "Python 3 (ipykernel)",
   "language": "python",
   "name": "python3"
  },
  "language_info": {
   "codemirror_mode": {
    "name": "ipython",
    "version": 3
   },
   "file_extension": ".py",
   "mimetype": "text/x-python",
   "name": "python",
   "nbconvert_exporter": "python",
   "pygments_lexer": "ipython3",
   "version": "3.9.12"
  },
  "varInspector": {
   "cols": {
    "lenName": 16,
    "lenType": 16,
    "lenVar": 40
   },
   "kernels_config": {
    "python": {
     "delete_cmd_postfix": "",
     "delete_cmd_prefix": "del ",
     "library": "var_list.py",
     "varRefreshCmd": "print(var_dic_list())"
    },
    "r": {
     "delete_cmd_postfix": ") ",
     "delete_cmd_prefix": "rm(",
     "library": "var_list.r",
     "varRefreshCmd": "cat(var_dic_list()) "
    }
   },
   "types_to_exclude": [
    "module",
    "function",
    "builtin_function_or_method",
    "instance",
    "_Feature"
   ],
   "window_display": false
  }
 },
 "nbformat": 4,
 "nbformat_minor": 2
}
