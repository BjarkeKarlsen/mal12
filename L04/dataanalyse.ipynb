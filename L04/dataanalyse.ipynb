{
 "cells": [
  {
   "cell_type": "markdown",
   "metadata": {},
   "source": [
    "  SWMAL Opgave\n",
    "\n",
    "## Dataanalyse\n",
    "\n",
    "### Qa) Beskrivelse af datasæt til O4 projekt\n",
    "\n",
    "I forbindelse med vores O4 projekt har vi valgt at arbejde med image recognition. Vi vil udvikle en model, som kan analysere og identificere de forskellige vejrforhold på billeder. Dette kan være Cloudy, Rainy, Sunny eller Sunrise. For at opnå dette mål vil vi at bruge en klassifikationsmetode, hvor billeder kategoriseres, så vores model kan trænes til at forudsige vejret, når det præsenteres med et nyt billede.\n",
    "\n",
    "Vi står over for en multi-class image classification-opgave, da der er fire forskellige vejrtilstande, som skal genkendes. Denne opgave vil blive løst ved hjælp af supervised learning, hvor vi træner vores model vha. et datasæt\n",
    "\n",
    "For at lave denne model har vi hentet data fra kaggle, som er en platform, der udbyder store dataset. Vi har et datasæt som består af ca. 1200 billeder, opdelt i de 4 kategorier. Der vil være ca. 300 samples pr. kategori til at træne/teste vores model. Disse samples består af forskellige billeder, som hver især illustrerer en af de fire kategorier af vejr, Sunny, Rainy, Cloudy og Sunshine, som vil være vores target værdier.\n",
    "\n",
    "Datasættet vil derfor blive opdelt i tre sæt: træningssæt til at træne modellen, valideringssæt til at finjustere modelparametre og teste ydeevnen, og testsæt til endelig evaluering af modellen.\n",
    "\n",
    "Når vi arbejder med image recognition, kan det være lidt sværere at identificere fejl i dataene. \n",
    "Der kan forekomme eventuelle fejl og usikkerheder  i form af belysning, synsvinkler eller andre faktorer, som vil påvirke billedernes kvalitet. Det kan også være, at et af billederne er havnet i den forkerte kategori i træningssættet, altså er der fejl i labels. På denne måde vil vores model ikke trænes korrekt til at predict vores targetværdier. Der vil blive lavet en dataanalyse af vores datasæt for at identificere korrupte data. \n",
    "\n",
    "Dette projekt sigter altså mod at udvikle en image recognition-model til at identificere vejrforhold på billeder ved hjælp af supervised learning.\n",
    "\n",
    "\n",
    "### Qb) Dataanalyse af eget datasæt\n",
    "\n",
    "Lav data analyse på jeres egne data og projekt.\n",
    "\n",
    "Det indebærer de sædvanlige elementer såsom plotte histogrammer, middelværdi/median/spredning, analysere for outliers/korrupte data, forslag til skalering af data og lignende former for analyse af data.\n",
    "\n",
    "For nogle typer data (fx billed-data), hvor features ikke har en specifik betydning, er det mest\n",
    "histogrammer og lignende, som giver mening – det er helt o.k. \n",
    "\n",
    "\n",
    "#### NOTE vdr. billeddatasæts\n",
    "\n",
    "For billeddata fer hver pixel en feature, og alm. analyse beskrevet ovenfor giver ikke indsigt. Prøv i stedet for billeder at beskrive billedformater (JPEG, PNG osv. / RGB, HSV, gråtone, multispektral, etc.), størrelser af billeder, hvordan de er repræsenteret på disk (dirs osv.)\n",
    "\n",
    "Giv også eksempler på billeder og evt. labels i billedesæt.\n",
    "\n",
    "Histogrammer kan udføres på enkelte billeder, men kun i forbindelse med labelede områder---og bedst på billesæt med ens baggrunde.\n",
    "\n",
    "Benytter i lyddata eller video gælder de samme begrænsinger som får billeder her.\n",
    "\n",
    "### NOTE vdr. valg af datasæt til O4\n",
    "\n",
    "I har frie hænder til at vælge O4 projekt og tilhørende datasæt og valg af datasæt og ide til O4 her er ikke endelig. \n",
    "\n",
    "Dvs. at i løbende kan modificere projektbeskrivelse og, evt. om nødvendigt, vælge et andet datasæt senere, hvis jeres nuværende valg viser sig umuligt (men er en dyr proces). \n",
    "\n",
    "Scope af O4 projekt bør også begrænses, så det passer til kurset og til den '_time-box_'ede aflevering."
   ]
  },
  {
   "cell_type": "markdown",
   "metadata": {},
   "source": [
    "REVISIONS||\n",
    ":-|:-|\n",
    "2021-08-17| CEF, moved from Word to Notebook.\n",
    "2021-11-08| CEF, elaborated on image based data.\n",
    "2022-01-25| CEF, update to F22 SWMAL.\n",
    "2023-02-19| CEF, updated to F23 SWMAL."
   ]
  }
 ],
 "metadata": {
  "kernelspec": {
   "display_name": "Python 3 (ipykernel)",
   "language": "python",
   "name": "python3"
  },
  "language_info": {
   "codemirror_mode": {
    "name": "ipython",
    "version": 3
   },
   "file_extension": ".py",
   "mimetype": "text/x-python",
   "name": "python",
   "nbconvert_exporter": "python",
   "pygments_lexer": "ipython3",
   "version": "3.10.12"
  },
  "varInspector": {
   "cols": {
    "lenName": 16,
    "lenType": 16,
    "lenVar": 40
   },
   "kernels_config": {
    "python": {
     "delete_cmd_postfix": "",
     "delete_cmd_prefix": "del ",
     "library": "var_list.py",
     "varRefreshCmd": "print(var_dic_list())"
    },
    "r": {
     "delete_cmd_postfix": ") ",
     "delete_cmd_prefix": "rm(",
     "library": "var_list.r",
     "varRefreshCmd": "cat(var_dic_list()) "
    }
   },
   "types_to_exclude": [
    "module",
    "function",
    "builtin_function_or_method",
    "instance",
    "_Feature"
   ],
   "window_display": true
  }
 },
 "nbformat": 4,
 "nbformat_minor": 4
}
