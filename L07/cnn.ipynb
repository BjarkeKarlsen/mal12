{
 "cells": [
  {
   "cell_type": "markdown",
   "metadata": {},
   "source": [
    "# SWMAL Exercise\n",
    "\n",
    "\n",
    "## Convolutional Neural Networks (CNNs)\n",
    "<details>\n",
    "For the journal: \n",
    "\n",
    "* write an introduction to CNNs (what are CNNs, what is a convolution layer, etc..), \n",
    "* document your experiments towards the end-goal of reaching 'a high accuracy' (what did you try, what work/did not work), \n",
    "* document how you use '_generalization_' in your setup (us of simple hold-out/train-test split or k-fold, or etc..),\n",
    "* produce some sort of '_learning-curve_' that illustrates the drop in cost- or increase in score-function with respect to, say training iteration (for inspiration see fig 4.20, 10-12 or 10.17 in [HOML]),\n",
    "* document the final CNN setup (layers etc., perhaps as a graph/drawing), \n",
    "* discus on your iterations towards the end-goal and other findings you had,\n",
    "* and, as always, write a conclusion.\n",
    "\n",
    "If you use a code template from slides, HOML or the internet, then remember to add a reference to the original work in you journal.\n",
    "</details>\n",
    "Excercise 9 from [HOML], p.496 2nd./p.535 3rd. (slighty modified):\n",
    "\n",
    "Convolational Neural NEtworks are categories as a deep learning model. It is use for processing grid-like data, such as images and series data. Now for explain the key components of CNN's. \n",
    "\n",
    "Convolutional layers are layers that apply learnable filters (kernels) to a small regions of the input data. They are not connect to all the data of example a image.\n",
    "\n",
    "Pooling Layer reducing the dimensionality, which can be reduce the amount of pixel. There are different pooling strategies maxpooling, avagere pooling. Maxpooling jsut takes the maximum value from a group of neighboring pixels to the input feature map. Avagere pooling is the sum \n",
    "\n",
    "Fully Connected Layers is after serveral convolution and pooling layers. There can be more than one of these layers and they act as a traditional neural network. Meaning they connect ever neuron from the previous layer to ever neuron in the next layer. \n",
    "\n",
    "Activation Functions is the non-linearity in the model. This can be ReLu, sigmoid or many more. It helps the model to learn complex relationships between features. \n",
    "\n",
    "Multiple Channels is often used with process images. Which allow to have multiple channels for each colour and for the outline of entity. The convolutional filters are applied independently to each channet. \n",
    "\n",
    "**Generalization**\n",
    "\n",
    "We are using a stratified k-fold cross-validation. K-fold is splitting the training set into k folds, then trainingthe model *k* times, holding out a different fold each time for evaluation. Stratified means maintenance the same propertions of classes as the orignal dataset when creating subsets or fold for training and validation. So the stratified k-fold performs strtified sampling to prodcue folds that contain a representative ratio of each class. With each iteration the code crates a clone of the classifer.\n",
    "\n",
    "**Learning Curve** \n",
    "\n",
    "Tp \n",
    "\n",
    "__\"9. Build an CNN via the Keras API and try to achieve the highest possible accuracy on MNIST.\"__\n"
   ]
  },
  {
   "cell_type": "code",
   "execution_count": 10,
   "metadata": {},
   "outputs": [
    {
     "name": "stdout",
     "output_type": "stream",
     "text": [
      "313/313 [==============================] - 2s 6ms/step - loss: 0.0646 - accuracy: 0.9865\n",
      "313/313 [==============================] - 2s 5ms/step - loss: 0.0487 - accuracy: 0.9907\n",
      "313/313 [==============================] - 2s 6ms/step - loss: 0.0452 - accuracy: 0.9896\n",
      "Test average accuracy: 0.9896000027656555\n"
     ]
    }
   ],
   "source": [
    "import keras\n",
    "import numpy as np\n",
    "from sklearn.model_selection import StratifiedKFold\n",
    "\n",
    "(X_train, y_train ), (X_test, y_test) = keras.datasets.mnist.load_data()\n",
    "\n",
    "# Remove first element\n",
    "X_train = X_train.reshape((-1, 28, 28, 1)).astype('float32') / 255.0\n",
    "X_test = X_test.reshape((-1 , 28, 28, 1)).astype('float32') / 255.0\n",
    "\n",
    "y_train = keras.utils.to_categorical(y_train, num_classes=10)\n",
    "y_test = keras.utils.to_categorical(y_test, num_classes=10)\n",
    "\n",
    "# 3, 3 means pixel... creates a 3x 3 pixels.\n",
    "# MaxPooling2D \n",
    "def createModel():\n",
    "    model = keras.models.Sequential()\n",
    "    model.add(keras.layers.Conv2D(32, (3, 3), padding=\"same\",activation='relu', input_shape=(28, 28 , 1)))\n",
    "    model.add(keras.layers.MaxPooling2D((2, 2)))\n",
    "    model.add(keras.layers.Conv2D(64, (3, 3), padding=\"same\", activation='relu'))\n",
    "    model.add(keras.layers.MaxPooling2D((2, 2)))\n",
    "    model.add(keras.layers.Conv2D(64, (3, 3), padding=\"same\", activation='relu'))\n",
    "    model.add(keras.layers.Flatten())\n",
    "    model.add(keras.layers.Dense(64, activation='relu'))\n",
    "    model.add(keras.layers.Dense(10, activation='softmax'))\n",
    "\n",
    "    model.compile(optimizer='adam', loss='categorical_crossentropy', metrics=['accuracy'])\n",
    "    return model\n",
    "\n",
    "folds = 3\n",
    "kfold = StratifiedKFold(n_splits=folds, shuffle=True, random_state=42)\n",
    "test_accuracy = []\n",
    "\n",
    "for train, val in kfold.split(X_train, y_train.argmax(1)):\n",
    "\n",
    "    model = createModel()\n",
    "\n",
    "    X_train_kfold, x_val_kfold = X_train[train], X_train[val]\n",
    "    y_train_kfold, y_val_kfold = y_train[train], y_train[val]\n",
    "\n",
    "    model.fit(X_train_kfold, y_train_kfold, epochs=17, batch_size=64, verbose=0)\n",
    "\n",
    "    test_loss, test_accuracy = model.evaluate(X_test, y_test)\n",
    "\n",
    "avg_accuracy = np.mean(test_accuracy)\n",
    "print(f'Test average accuracy: {avg_accuracy}')"
   ]
  }
 ],
 "metadata": {
  "kernelspec": {
   "display_name": "Python 3 (ipykernel)",
   "language": "python",
   "name": "python3"
  },
  "language_info": {
   "codemirror_mode": {
    "name": "ipython",
    "version": 3
   },
   "file_extension": ".py",
   "mimetype": "text/x-python",
   "name": "python",
   "nbconvert_exporter": "python",
   "pygments_lexer": "ipython3",
   "version": "3.11.6"
  },
  "varInspector": {
   "cols": {
    "lenName": 16,
    "lenType": 16,
    "lenVar": 40
   },
   "kernels_config": {
    "python": {
     "delete_cmd_postfix": "",
     "delete_cmd_prefix": "del ",
     "library": "var_list.py",
     "varRefreshCmd": "print(var_dic_list())"
    },
    "r": {
     "delete_cmd_postfix": ") ",
     "delete_cmd_prefix": "rm(",
     "library": "var_list.r",
     "varRefreshCmd": "cat(var_dic_list()) "
    }
   },
   "types_to_exclude": [
    "module",
    "function",
    "builtin_function_or_method",
    "instance",
    "_Feature"
   ],
   "window_display": true
  }
 },
 "nbformat": 4,
 "nbformat_minor": 4
}
