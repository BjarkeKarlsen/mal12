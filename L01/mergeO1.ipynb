{
 "cells": [
  {
   "cell_type": "markdown",
   "metadata": {},
   "source": [
    "# Frontpage\n",
    "Resubmission of \"Opgavesæt O1\" \n",
    "\n",
    "Date 29/09/2023\n",
    "\n",
    "Group 12\n",
    "\n",
    "Members:\n",
    "\n",
    "Oscar Damgaard Nielsen 201811388\n",
    "\n",
    "Bjarke Justesen Karlsen 202010613\n",
    "\n",
    "My-Thanh Thi Le 202006329\n",
    "\n",
    "\n",
    "![Alt text](image.png)"
   ]
  },
  {
   "cell_type": "markdown",
   "metadata": {},
   "source": [
    "# SWMAL Exercise \"intro\"\n",
    "\n"
   ]
  },
  {
   "cell_type": "markdown",
   "metadata": {},
   "source": [
    "### Setup\n",
    "\n",
    "This is the setup code from the exercise. Please skip to Qa."
   ]
  },
  {
   "cell_type": "code",
   "execution_count": 37,
   "metadata": {
    "slideshow": {
     "slide_type": "-"
    },
    "tags": []
   },
   "outputs": [
    {
     "name": "stdout",
     "output_type": "stream",
     "text": [
      "OK\n"
     ]
    }
   ],
   "source": [
    "# To support both python 2 and python 3\n",
    "from __future__ import division, print_function, unicode_literals\n",
    "\n",
    "# Common imports\n",
    "import numpy as np\n",
    "import os\n",
    "\n",
    "# to make this notebook's output stable across runs\n",
    "np.random.seed(42)\n",
    "\n",
    "# To plot pretty figures\n",
    "%matplotlib inline\n",
    "import matplotlib\n",
    "import matplotlib.pyplot as plt\n",
    "plt.rcParams['axes.labelsize'] = 14\n",
    "plt.rcParams['xtick.labelsize'] = 12\n",
    "plt.rcParams['ytick.labelsize'] = 12\n",
    "\n",
    "# Where to save the figures\n",
    "PROJECT_ROOT_DIR = \".\"\n",
    "CHAPTER_ID = \"fundamentals\"\n",
    "\n",
    "def save_fig(fig_id, tight_layout=True):\n",
    "    path = os.path.join(PROJECT_ROOT_DIR, \"images\", CHAPTER_ID, fig_id + \".png\")\n",
    "    print(\"IGNORING: Saving figure\", fig_id) # SWMAL: I've disabled saving of figures\n",
    "    #if tight_layout:\n",
    "    #    plt.tight_layout()\n",
    "    #plt.savefig(path, format='png', dpi=300)\n",
    "\n",
    "# Ignore useless warnings (see SciPy issue #5998)\n",
    "import warnings\n",
    "warnings.filterwarnings(action=\"ignore\", module=\"scipy\", message=\"^internal gelsd\")\n",
    "\n",
    "print(\"OK\")"
   ]
  },
  {
   "cell_type": "code",
   "execution_count": 38,
   "metadata": {
    "tags": []
   },
   "outputs": [
    {
     "name": "stdout",
     "output_type": "stream",
     "text": [
      "OK\n"
     ]
    }
   ],
   "source": [
    "def prepare_country_stats(oecd_bli, gdp_per_capita):\n",
    "    oecd_bli = oecd_bli[oecd_bli[\"INEQUALITY\"]==\"TOT\"]\n",
    "    oecd_bli = oecd_bli.pivot(index=\"Country\", columns=\"Indicator\", values=\"Value\")\n",
    "    gdp_per_capita.rename(columns={\"2015\": \"GDP per capita\"}, inplace=True)\n",
    "    gdp_per_capita.set_index(\"Country\", inplace=True)\n",
    "    full_country_stats = pd.merge(left=oecd_bli, right=gdp_per_capita,\n",
    "                                  left_index=True, right_index=True)\n",
    "    full_country_stats.sort_values(by=\"GDP per capita\", inplace=True)\n",
    "    remove_indices = [0, 1, 6, 8, 33, 34, 35]\n",
    "    keep_indices = list(set(range(36)) - set(remove_indices))\n",
    "    return full_country_stats[[\"GDP per capita\", 'Life satisfaction']].iloc[keep_indices]\n",
    "\n",
    "print(\"OK\")"
   ]
  },
  {
   "cell_type": "code",
   "execution_count": 39,
   "metadata": {
    "scrolled": true
   },
   "outputs": [
    {
     "name": "stdout",
     "output_type": "stream",
     "text": [
      " Volume in drive C is Windows-SSD\n",
      " Volume Serial Number is 48F0-D5F0\n",
      "\n",
      " Directory of c:\\Users\\oscar\\MAL\\mal12\\L01\n",
      "\n",
      "29/09/2023  11.01    <DIR>          .\n",
      "29/09/2023  11.01    <DIR>          ..\n",
      "13/09/2023  12.11    <DIR>          .ipynb_checkpoints\n",
      "13/09/2023  12.06    <DIR>          datasets\n",
      "13/09/2023  12.06           864.068 datasets.zip\n",
      "29/09/2023  10.15            11.301 demo.ipynb\n",
      "13/09/2023  12.06    <DIR>          Figs\n",
      "29/09/2023  11.10           201.440 intro.ipynb\n",
      "13/09/2023  12.06         5.973.879 lesson01.pdf\n",
      "29/09/2023  11.11           364.353 mergeO1.ipynb\n",
      "29/09/2023  11.02            10.814 modules_and_classes.ipynb\n",
      "               6 File(s)      7.425.855 bytes\n",
      "               5 Dir(s)  88.716.873.728 bytes free\n",
      "\n",
      "OK\n"
     ]
    },
    {
     "name": "stderr",
     "output_type": "stream",
     "text": [
      "'ls' is not recognized as an internal or external command,\n",
      "operable program or batch file.\n"
     ]
    }
   ],
   "source": [
    "import os\n",
    "datapath = os.path.join(\"../datasets\", \"lifesat\", \"\")\n",
    "\n",
    "# NOTE: a ! prefix makes us able to run system commands..\n",
    "# (command 'dir' for windows, 'ls' for Linux or Macs)\n",
    "#\n",
    "! dir\n",
    "! ls\n",
    "\n",
    "print(\"\\nOK\")"
   ]
  },
  {
   "cell_type": "code",
   "execution_count": 40,
   "metadata": {},
   "outputs": [
    {
     "data": {
      "image/png": "[encoded data removed]",
      "text/plain": [
       "<Figure size 640x480 with 1 Axes>"
      ]
     },
     "metadata": {},
     "output_type": "display_data"
    },
    {
     "name": "stdout",
     "output_type": "stream",
     "text": [
      "[[5.96242338]]\n",
      "OK\n"
     ]
    }
   ],
   "source": [
    "# Code example\n",
    "import matplotlib\n",
    "import matplotlib.pyplot as plt\n",
    "import numpy as np\n",
    "import pandas as pd\n",
    "import sklearn.linear_model\n",
    "\n",
    "# Load the data\n",
    "try:\n",
    "    oecd_bli = pd.read_csv(datapath + \"oecd_bli_2015.csv\", thousands=',')\n",
    "    gdp_per_capita = pd.read_csv(datapath + \"gdp_per_capita.csv\",thousands=',',delimiter='\\t',\n",
    "                             encoding='latin1', na_values=\"n/a\")\n",
    "except Exception as e:\n",
    "    print(f\"SWMAL NOTE: well, you need to have the 'datasets' dir in path, please unzip 'datasets.zip' and make sure that its included in the datapath='{datapath}' setting in the cell above..\")\n",
    "    raise e\n",
    "    \n",
    "# Prepare the data\n",
    "country_stats = prepare_country_stats(oecd_bli, gdp_per_capita)\n",
    "X = np.c_[country_stats[\"GDP per capita\"]]\n",
    "y = np.c_[country_stats[\"Life satisfaction\"]]\n",
    "\n",
    "# Visualize the data\n",
    "country_stats.plot(kind='scatter', x=\"GDP per capita\", y='Life satisfaction')\n",
    "plt.show()\n",
    "\n",
    "# Select a linear model\n",
    "model = sklearn.linear_model.LinearRegression()\n",
    "\n",
    "# Train the model\n",
    "model.fit(X, y)\n",
    "\n",
    "\n",
    "\n",
    "# Make a prediction for Cyprus\n",
    "X_new = [[22587]]  # Cyprus' GDP per capita\n",
    "y_pred = model.predict(X_new)\n",
    "print(y_pred) # outputs [[ 5.96242338]]\n",
    "\n",
    "\n",
    "print(\"OK\")"
   ]
  },
  {
   "cell_type": "code",
   "execution_count": 41,
   "metadata": {},
   "outputs": [
    {
     "data": {
      "image/png": "[encoded data removed]",
      "text/plain": [
       "<Figure size 500x300 with 1 Axes>"
      ]
     },
     "metadata": {},
     "output_type": "display_data"
    },
    {
     "data": {
      "image/png": "[encoded data removed]",
      "text/plain": [
       "<Figure size 500x300 with 1 Axes>"
      ]
     },
     "metadata": {},
     "output_type": "display_data"
    },
    {
     "name": "stdout",
     "output_type": "stream",
     "text": [
      "OK\n"
     ]
    }
   ],
   "source": [
    "oecd_bli = pd.read_csv(datapath + \"oecd_bli_2015.csv\", thousands=',')\n",
    "oecd_bli = oecd_bli[oecd_bli[\"INEQUALITY\"]==\"TOT\"]\n",
    "oecd_bli = oecd_bli.pivot(index=\"Country\", columns=\"Indicator\", values=\"Value\")\n",
    "#oecd_bli.head(2)\n",
    "\n",
    "gdp_per_capita = pd.read_csv(datapath+\"gdp_per_capita.csv\", thousands=',', delimiter='\\t',\n",
    "                             encoding='latin1', na_values=\"n/a\")\n",
    "gdp_per_capita.rename(columns={\"2015\": \"GDP per capita\"}, inplace=True)\n",
    "gdp_per_capita.set_index(\"Country\", inplace=True)\n",
    "#gdp_per_capita.head(2)\n",
    "\n",
    "full_country_stats = pd.merge(left=oecd_bli, right=gdp_per_capita, left_index=True, right_index=True)\n",
    "full_country_stats.sort_values(by=\"GDP per capita\", inplace=True)\n",
    "#full_country_stats\n",
    "\n",
    "remove_indices = [0, 1, 6, 8, 33, 34, 35]\n",
    "keep_indices = list(set(range(36)) - set(remove_indices))\n",
    "\n",
    "sample_data = full_country_stats[[\"GDP per capita\", 'Life satisfaction']].iloc[keep_indices]\n",
    "#missing_data = full_country_stats[[\"GDP per capita\", 'Life satisfaction']].iloc[remove_indices]\n",
    "\n",
    "sample_data.plot(kind='scatter', x=\"GDP per capita\", y='Life satisfaction', figsize=(5,3))\n",
    "plt.axis([0, 60000, 0, 10])\n",
    "position_text = {\n",
    "    \"Hungary\": (5000, 1),\n",
    "    \"Korea\": (18000, 1.7),\n",
    "    \"France\": (29000, 2.4),\n",
    "    \"Australia\": (40000, 3.0),\n",
    "    \"United States\": (52000, 3.8),\n",
    "}\n",
    "for country, pos_text in position_text.items():\n",
    "    pos_data_x, pos_data_y = sample_data.loc[country]\n",
    "    country = \"U.S.\" if country == \"United States\" else country\n",
    "    plt.annotate(country, xy=(pos_data_x, pos_data_y), xytext=pos_text,\n",
    "            arrowprops=dict(facecolor='black', width=0.5, shrink=0.1, headwidth=5))\n",
    "    plt.plot(pos_data_x, pos_data_y, \"ro\")\n",
    "#save_fig('money_happy_scatterplot')\n",
    "plt.show()\n",
    "\n",
    "from sklearn import linear_model\n",
    "lin1 = linear_model.LinearRegression()\n",
    "Xsample = np.c_[sample_data[\"GDP per capita\"]]\n",
    "ysample = np.c_[sample_data[\"Life satisfaction\"]]\n",
    "lin1.fit(Xsample, ysample)\n",
    "\n",
    "t0 = 4.8530528\n",
    "t1 = 4.91154459e-05\n",
    "\n",
    "sample_data.plot(kind='scatter', x=\"GDP per capita\", y='Life satisfaction', figsize=(5,3))\n",
    "plt.axis([0, 60000, 0, 10])\n",
    "M=np.linspace(0, 60000, 1000)\n",
    "plt.plot(M, t0 + t1*M, \"b\")\n",
    "plt.text(5000, 3.1, r\"$\\theta_0 = 4.85$\", fontsize=14, color=\"b\")\n",
    "plt.text(5000, 2.2, r\"$\\theta_1 = 4.91 \\times 10^{-5}$\", fontsize=14, color=\"b\")\n",
    "#save_fig('best_fit_model_plot')\n",
    "plt.show()\n",
    "\n",
    "print(\"OK\")"
   ]
  },
  {
   "cell_type": "markdown",
   "metadata": {},
   "source": [
    "## Qa: The $\\theta$ parameters and the $R^2$ Score\n",
    "We will be using the $\\theta$ parameters from the model declared above. \n",
    "To use the $\\theta$ parameters we must extract them from the model. If we want to get the intercept and coefficient params, also called $\\theta_0$ and $\\theta_1$. For a given model, it is possible to extract $\\theta_0$ and $\\theta_1$ with following python attributes.\n"
   ]
  },
  {
   "cell_type": "code",
   "execution_count": 42,
   "metadata": {},
   "outputs": [
    {
     "name": "stdout",
     "output_type": "stream",
     "text": [
      "[4.8530528]\n",
      "[4.91154459e-05]\n"
     ]
    }
   ],
   "source": [
    "theta0 = model.intercept_  # Intercept\n",
    "theta1 = model.coef_[0]   \n",
    "\n",
    "print(f\"{theta0}\")\n",
    "print(f\"{theta1}\")"
   ]
  },
  {
   "cell_type": "code",
   "execution_count": 43,
   "metadata": {},
   "outputs": [
    {
     "name": "stdout",
     "output_type": "stream",
     "text": [
      "0.7344414355437031\n"
     ]
    }
   ],
   "source": [
    "r_sq = model.score(X,y)\n",
    "\n",
    "print(f\"{r_sq}\")"
   ]
  },
  {
   "cell_type": "markdown",
   "metadata": {},
   "source": [
    "The $R^2$ score, that is showed, is the coefficient of determination. It determines the fitness of the data to the linear model. It has a max value of 1, which indicates that the data match perfectly to the linear model. \n",
    "If you have a coefficient of determination below 0, it indicates that the model that is in use in incorrect.\n",
    "Therefore the values for $R^2~$ range from minus infinity to 1\n",
    "\n",
    "It is best to have a high score, as to the fact that the max value 1 tells us that the data fit perfectly to the linear model. "
   ]
  },
  {
   "cell_type": "markdown",
   "metadata": {},
   "source": [
    "### Qb) Using k-Nearest Neighbors\n",
    "\n",
    "In this exercise we will be using the K-nearest neighbors to train the model.\n",
    "\n",
    "K-nearest is a supervised learning classifier. It uses the amount k nearest data points in the training dataset it has while the linear regression model doesn't use anything when instantiated. \n",
    "The default value for K-nearest model is 5 if you don't change it. The method for calling fit and predict both for K-nearest model and linear regression model are the same. \n",
    "\n",
    "The score of the model can be compared in the sense that they provide information on how well the model performs. The score will not have a precise and definite saying about which model is best, but if one of the models are almost zero or less compared to another model is are almost 1, we can say that the model closest to 1 is a better model in this thought experiment. If you want to compare them you will also have to look at other different evaluation types like F1-Score. "
   ]
  },
  {
   "cell_type": "code",
   "execution_count": 44,
   "metadata": {},
   "outputs": [
    {
     "data": {
      "text/html": [
       "<div>\n",
       "<style scoped>\n",
       "    .dataframe tbody tr th:only-of-type {\n",
       "        vertical-align: middle;\n",
       "    }\n",
       "\n",
       "    .dataframe tbody tr th {\n",
       "        vertical-align: top;\n",
       "    }\n",
       "\n",
       "    .dataframe thead th {\n",
       "        text-align: right;\n",
       "    }\n",
       "</style>\n",
       "<table border=\"1\" class=\"dataframe\">\n",
       "  <thead>\n",
       "    <tr style=\"text-align: right;\">\n",
       "      <th></th>\n",
       "      <th>GDP per capita</th>\n",
       "      <th>Life satisfaction</th>\n",
       "    </tr>\n",
       "    <tr>\n",
       "      <th>Country</th>\n",
       "      <th></th>\n",
       "      <th></th>\n",
       "    </tr>\n",
       "  </thead>\n",
       "  <tbody>\n",
       "    <tr>\n",
       "      <th>Russia</th>\n",
       "      <td>9054.914</td>\n",
       "      <td>6.0</td>\n",
       "    </tr>\n",
       "    <tr>\n",
       "      <th>Turkey</th>\n",
       "      <td>9437.372</td>\n",
       "      <td>5.6</td>\n",
       "    </tr>\n",
       "    <tr>\n",
       "      <th>Hungary</th>\n",
       "      <td>12239.894</td>\n",
       "      <td>4.9</td>\n",
       "    </tr>\n",
       "    <tr>\n",
       "      <th>Poland</th>\n",
       "      <td>12495.334</td>\n",
       "      <td>5.8</td>\n",
       "    </tr>\n",
       "    <tr>\n",
       "      <th>Slovak Republic</th>\n",
       "      <td>15991.736</td>\n",
       "      <td>6.1</td>\n",
       "    </tr>\n",
       "    <tr>\n",
       "      <th>Estonia</th>\n",
       "      <td>17288.083</td>\n",
       "      <td>5.6</td>\n",
       "    </tr>\n",
       "    <tr>\n",
       "      <th>Greece</th>\n",
       "      <td>18064.288</td>\n",
       "      <td>4.8</td>\n",
       "    </tr>\n",
       "    <tr>\n",
       "      <th>Portugal</th>\n",
       "      <td>19121.592</td>\n",
       "      <td>5.1</td>\n",
       "    </tr>\n",
       "    <tr>\n",
       "      <th>Slovenia</th>\n",
       "      <td>20732.482</td>\n",
       "      <td>5.7</td>\n",
       "    </tr>\n",
       "    <tr>\n",
       "      <th>Spain</th>\n",
       "      <td>25864.721</td>\n",
       "      <td>6.5</td>\n",
       "    </tr>\n",
       "    <tr>\n",
       "      <th>Korea</th>\n",
       "      <td>27195.197</td>\n",
       "      <td>5.8</td>\n",
       "    </tr>\n",
       "    <tr>\n",
       "      <th>Italy</th>\n",
       "      <td>29866.581</td>\n",
       "      <td>6.0</td>\n",
       "    </tr>\n",
       "    <tr>\n",
       "      <th>Japan</th>\n",
       "      <td>32485.545</td>\n",
       "      <td>5.9</td>\n",
       "    </tr>\n",
       "    <tr>\n",
       "      <th>Israel</th>\n",
       "      <td>35343.336</td>\n",
       "      <td>7.4</td>\n",
       "    </tr>\n",
       "    <tr>\n",
       "      <th>New Zealand</th>\n",
       "      <td>37044.891</td>\n",
       "      <td>7.3</td>\n",
       "    </tr>\n",
       "    <tr>\n",
       "      <th>France</th>\n",
       "      <td>37675.006</td>\n",
       "      <td>6.5</td>\n",
       "    </tr>\n",
       "    <tr>\n",
       "      <th>Belgium</th>\n",
       "      <td>40106.632</td>\n",
       "      <td>6.9</td>\n",
       "    </tr>\n",
       "    <tr>\n",
       "      <th>Germany</th>\n",
       "      <td>40996.511</td>\n",
       "      <td>7.0</td>\n",
       "    </tr>\n",
       "    <tr>\n",
       "      <th>Finland</th>\n",
       "      <td>41973.988</td>\n",
       "      <td>7.4</td>\n",
       "    </tr>\n",
       "    <tr>\n",
       "      <th>Canada</th>\n",
       "      <td>43331.961</td>\n",
       "      <td>7.3</td>\n",
       "    </tr>\n",
       "    <tr>\n",
       "      <th>Netherlands</th>\n",
       "      <td>43603.115</td>\n",
       "      <td>7.3</td>\n",
       "    </tr>\n",
       "    <tr>\n",
       "      <th>Austria</th>\n",
       "      <td>43724.031</td>\n",
       "      <td>6.9</td>\n",
       "    </tr>\n",
       "    <tr>\n",
       "      <th>United Kingdom</th>\n",
       "      <td>43770.688</td>\n",
       "      <td>6.8</td>\n",
       "    </tr>\n",
       "    <tr>\n",
       "      <th>Sweden</th>\n",
       "      <td>49866.266</td>\n",
       "      <td>7.2</td>\n",
       "    </tr>\n",
       "    <tr>\n",
       "      <th>Iceland</th>\n",
       "      <td>50854.583</td>\n",
       "      <td>7.5</td>\n",
       "    </tr>\n",
       "    <tr>\n",
       "      <th>Australia</th>\n",
       "      <td>50961.865</td>\n",
       "      <td>7.3</td>\n",
       "    </tr>\n",
       "    <tr>\n",
       "      <th>Ireland</th>\n",
       "      <td>51350.744</td>\n",
       "      <td>7.0</td>\n",
       "    </tr>\n",
       "    <tr>\n",
       "      <th>Denmark</th>\n",
       "      <td>52114.165</td>\n",
       "      <td>7.5</td>\n",
       "    </tr>\n",
       "    <tr>\n",
       "      <th>United States</th>\n",
       "      <td>55805.204</td>\n",
       "      <td>7.2</td>\n",
       "    </tr>\n",
       "  </tbody>\n",
       "</table>\n",
       "</div>"
      ],
      "text/plain": [
       "                 GDP per capita  Life satisfaction\n",
       "Country                                           \n",
       "Russia                 9054.914                6.0\n",
       "Turkey                 9437.372                5.6\n",
       "Hungary               12239.894                4.9\n",
       "Poland                12495.334                5.8\n",
       "Slovak Republic       15991.736                6.1\n",
       "Estonia               17288.083                5.6\n",
       "Greece                18064.288                4.8\n",
       "Portugal              19121.592                5.1\n",
       "Slovenia              20732.482                5.7\n",
       "Spain                 25864.721                6.5\n",
       "Korea                 27195.197                5.8\n",
       "Italy                 29866.581                6.0\n",
       "Japan                 32485.545                5.9\n",
       "Israel                35343.336                7.4\n",
       "New Zealand           37044.891                7.3\n",
       "France                37675.006                6.5\n",
       "Belgium               40106.632                6.9\n",
       "Germany               40996.511                7.0\n",
       "Finland               41973.988                7.4\n",
       "Canada                43331.961                7.3\n",
       "Netherlands           43603.115                7.3\n",
       "Austria               43724.031                6.9\n",
       "United Kingdom        43770.688                6.8\n",
       "Sweden                49866.266                7.2\n",
       "Iceland               50854.583                7.5\n",
       "Australia             50961.865                7.3\n",
       "Ireland               51350.744                7.0\n",
       "Denmark               52114.165                7.5\n",
       "United States         55805.204                7.2"
      ]
     },
     "execution_count": 44,
     "metadata": {},
     "output_type": "execute_result"
    }
   ],
   "source": [
    "# and this is our preprocessed data\n",
    "country_stats"
   ]
  },
  {
   "cell_type": "markdown",
   "metadata": {},
   "source": [
    "In the cell below we start with preparing the data and visualizing it. \n",
    "We use the K-nearest neighbor regressor from sklearn which can be found: https://scikit-learn.org/stable/modules/generated/sklearn.neighbors.KNeighborsRegressor.html"
   ]
  },
  {
   "cell_type": "code",
   "execution_count": 45,
   "metadata": {},
   "outputs": [
    {
     "name": "stdout",
     "output_type": "stream",
     "text": [
      "X.shape= (29, 1)\n",
      "y.shape= (29, 1)\n"
     ]
    },
    {
     "data": {
      "image/png": "[encoded data removed]",
      "text/plain": [
       "<Figure size 640x480 with 1 Axes>"
      ]
     },
     "metadata": {},
     "output_type": "display_data"
    },
    {
     "name": "stdout",
     "output_type": "stream",
     "text": [
      "K-nearstneighbor prediction for Cypress: [[5.76666667]]\n",
      "Linearregression prediction for Cypress: [[5.96242338]]\n"
     ]
    }
   ],
   "source": [
    "# Import the KNeighborsRegressor\n",
    "from sklearn.neighbors import KNeighborsRegressor\n",
    "#Prepare the data\n",
    "\n",
    "X = np.c_[country_stats[\"GDP per capita\"]]\n",
    "y = np.c_[country_stats[\"Life satisfaction\"]]\n",
    "\n",
    "print(\"X.shape=\",X.shape)\n",
    "print(\"y.shape=\",y.shape)\n",
    "\n",
    "\n",
    "# Visualize the data\n",
    "country_stats.plot(kind='scatter', x=\"GDP per capita\", y='Life satisfaction')\n",
    "\n",
    "plt.show()\n",
    "\n",
    "# Instantiate \n",
    "knn = KNeighborsRegressor(n_neighbors=3)\n",
    "\n",
    "# Train model\n",
    "knn.fit(X, y)\n",
    "\n",
    "# Predict and print the knn = 5.766667\n",
    "print(f\"K-nearstneighbor prediction for Cypress: {knn.predict(X_new)}\")# knn = ..\n",
    "print(f\"Linearregression prediction for Cypress: {lin1.predict(X_new)}\")"
   ]
  },
  {
   "cell_type": "markdown",
   "metadata": {},
   "source": [
    "As you can see the prediction for the k-nearest neighbor and linear regression are close to each other. However, they are not the same. This is due to the fact that they are fundamentally different algorithms."
   ]
  },
  {
   "cell_type": "markdown",
   "metadata": {},
   "source": [
    "### Qc) Tuning Parameter for k-Nearest Neighbors and A Sanity Check\n",
    "\n",
    "In this chapter we will look into the tuning of parameter for k-nearest neighbors. By changing the parameter we will look into how it works and do a santity check. We will answer why the score closed to 1 does not mean, that the k-nearest nieghbors is the right esimater for the job. \n",
    "\n",
    "The problem with having a k-nearest neighbor produces a score that is 1. It makes a prediction based on the single closest value and that can cause overfitting. Or as you can see on the picture where N=1, the line does follow the rest of the data and is overfitting.\n",
    "\n",
    "It is also a problem if the k-nearest neighbor gets too large, because the data does not follow the data as you can observe below where K=20.\n",
    "\n",
    "<img src=\"https://itundervisning.ase.au.dk/SWMAL/L01/Figs/regression_with_knn.png\"  alt=\"WARNING: could not get image from server.\" style=\"height:150px\">"
   ]
  },
  {
   "cell_type": "code",
   "execution_count": 46,
   "metadata": {},
   "outputs": [
    {
     "name": "stdout",
     "output_type": "stream",
     "text": [
      "1 nearest neighbour score: 1.0\n",
      "3 nearest neighbour score: 0.8525732853499179\n",
      "10 nearest neighbour score: 0.7833080605150065\n"
     ]
    },
    {
     "data": {
      "image/png": "[encoded data removed]",
      "text/plain": [
       "<Figure size 500x300 with 1 Axes>"
      ]
     },
     "metadata": {},
     "output_type": "display_data"
    }
   ],
   "source": [
    "sample_data.plot(kind='scatter', x=\"GDP per capita\", y='Life satisfaction', figsize=(5,3))\n",
    "plt.axis([0, 60000, 0, 10])\n",
    "\n",
    "# create an test matrix M, with the same dimensionality as X, and in the range [0;60000] \n",
    "# and a step size of your choice\n",
    "m=np.linspace(0, 60000, 1000)\n",
    "M=np.empty([m.shape[0],1])\n",
    "M[:,0]=m\n",
    "\n",
    "# from this test M data, predict the y values via the lin.reg. and k-nearest models\n",
    "y_pred_lin = model.predict(M)\n",
    "y_pred_knn = knn.predict(M) \n",
    "\n",
    "# use plt.plot to plot x-y into the sample_data plot..\n",
    "# Plot linear regression\n",
    "plt.plot(m, y_pred_lin, \"r--\", label=\"linear\")\n",
    "\n",
    "# Plot Neighbor set to 3\n",
    "plt.plot(m, y_pred_knn, \"b--\", label=\"n=3\")\n",
    "\n",
    "# Import the KNeighbor regressor\n",
    "from sklearn.neighbors import KNeighborsRegressor\n",
    "\n",
    "# Neighbor set to 1\n",
    "knn1 = KNeighborsRegressor(n_neighbors=1)\n",
    "knn1.fit(X, y)\n",
    "y_pred_knn1 = knn1.predict(M)\n",
    "plt.plot(m, y_pred_knn1, \"c--\", label=\"n=1\")\n",
    "\n",
    "# Neighbor set to 10\n",
    "knn2 = KNeighborsRegressor(n_neighbors=10)\n",
    "knn2.fit(X, y)\n",
    "y_pred_knn2 = knn2.predict(M)\n",
    "plt.plot(m, y_pred_knn2, \"y--\", label=\"n=10\")\n",
    "\n",
    "# Legends\n",
    "plt.legend()\n",
    "\n",
    "# Print \n",
    "print(f\"1 nearest neighbour score: {knn1.score(X, y)}\")\n",
    "print(f\"3 nearest neighbour score: {knn.score(X, y)}\")\n",
    "print(f\"10 nearest neighbour score: {knn2.score(X, y)}\")"
   ]
  },
  {
   "cell_type": "markdown",
   "metadata": {},
   "source": [
    "Above you can both see the score and the plotting of the 3 different amounts of neighbors. The K-nearest neighbor with 1 neighbor has a score 1, and follows the data complete, which is overfitting. The n=3 is better because it follows the flow, but not as much and are less change of overfitting. Looking at n=10 the line is much smoother, but this will also mean that there is a loss of detail. \n",
    "It is difficult to tell which model are the best one from the diagram. The goal is to have a balance between having a small enough k to capture local patterns and but also large enough to reduce noise."
   ]
  },
  {
   "cell_type": "markdown",
   "metadata": {},
   "source": [
    "### Qd) Trying out a Neural Network\n",
    "\n",
    "We are going to try to use the neural network. We are using the Multi-Layer Perceptron (MLP) for regression. We find the MLPregressor here: https://scikit-learn.org/stable/modules/generated/sklearn.neural_network.MLPRegressor.html\n",
    "\n",
    "OBS. Each run of the column below produces a different outcome, because we make a new MPLRegressor and training again.  "
   ]
  },
  {
   "cell_type": "code",
   "execution_count": 47,
   "metadata": {
    "scrolled": true
   },
   "outputs": [
    {
     "name": "stdout",
     "output_type": "stream",
     "text": [
      "Iteration 1, loss = 290434295.23044360\n",
      "Iteration 2, loss = 286926974.91845930\n",
      "Iteration 3, loss = 283445091.80120462\n",
      "Iteration 4, loss = 279989007.88284469\n",
      "Iteration 5, loss = 276559070.05886549\n",
      "Iteration 6, loss = 273155609.32856685\n",
      "Iteration 7, loss = 269778940.07033998\n",
      "Iteration 8, loss = 266429359.38609853\n",
      "Iteration 9, loss = 263107146.52031821\n",
      "Iteration 10, loss = 259812562.35816029\n",
      "Iteration 11, loss = 256545849.00610605\n",
      "Iteration 12, loss = 253307229.45747611\n",
      "Iteration 13, loss = 250096907.34413815\n",
      "Iteration 14, loss = 246915066.77466321\n",
      "Iteration 15, loss = 243761872.25819016\n",
      "Iteration 16, loss = 240637468.71230754\n",
      "Iteration 17, loss = 237541981.55239332\n",
      "Iteration 18, loss = 234475516.85906240\n",
      "Iteration 19, loss = 231438161.61967906\n",
      "Iteration 20, loss = 228429984.03930050\n",
      "Iteration 21, loss = 225451033.91592681\n",
      "Iteration 22, loss = 222501343.07455081\n",
      "Iteration 23, loss = 219580925.85422322\n",
      "Iteration 24, loss = 216689779.64216983\n",
      "Iteration 25, loss = 213827885.44891003\n",
      "Iteration 26, loss = 210995208.51833686\n",
      "Iteration 27, loss = 208191698.96679541\n",
      "Iteration 28, loss = 205417292.44535619\n",
      "Iteration 29, loss = 202671910.81969422\n",
      "Iteration 30, loss = 199955462.86225185\n",
      "Iteration 31, loss = 197267844.95167443\n",
      "Iteration 32, loss = 194608941.77484995\n",
      "Iteration 33, loss = 191978627.02724859\n",
      "Iteration 34, loss = 189376764.10764295\n",
      "Iteration 35, loss = 186803206.80367702\n",
      "Iteration 36, loss = 184257799.96514288\n",
      "Iteration 37, loss = 181740380.16221148\n",
      "Iteration 38, loss = 179250776.32624123\n",
      "Iteration 39, loss = 176788810.37114519\n",
      "Iteration 40, loss = 174354297.79365045\n",
      "Iteration 41, loss = 171947048.25110015\n",
      "Iteration 42, loss = 169566866.11575755\n",
      "Iteration 43, loss = 167213551.00484595\n",
      "Iteration 44, loss = 164886898.28581715\n",
      "Iteration 45, loss = 162586699.55657044\n",
      "Iteration 46, loss = 160312743.10055014\n",
      "Iteration 47, loss = 158064814.31683558\n",
      "Iteration 48, loss = 155842696.12549382\n",
      "Iteration 49, loss = 153646169.34860966\n",
      "Iteration 50, loss = 151475013.06751981\n",
      "Iteration 51, loss = 149329004.95688277\n",
      "Iteration 52, loss = 147207921.59629360\n",
      "Iteration 53, loss = 145111538.76022062\n",
      "Iteration 54, loss = 143039631.68709084\n",
      "Iteration 55, loss = 140991975.32838824\n",
      "Iteration 56, loss = 138968344.57865521\n",
      "Iteration 57, loss = 136968514.48730263\n",
      "Iteration 58, loss = 134992260.45313826\n",
      "Iteration 59, loss = 133039358.40252548\n",
      "Iteration 60, loss = 131109584.95206928\n",
      "Iteration 61, loss = 129202717.55671819\n",
      "Iteration 62, loss = 127318534.64414708\n",
      "Iteration 63, loss = 125456815.73626374\n",
      "Iteration 64, loss = 123617341.55865660\n",
      "Iteration 65, loss = 121799894.13876976\n",
      "Iteration 66, loss = 120004256.89356241\n",
      "Iteration 67, loss = 118230214.70737667\n",
      "Iteration 68, loss = 116477554.00070480\n",
      "Iteration 69, loss = 114746062.79051289\n",
      "Iteration 70, loss = 113035530.74274606\n",
      "Iteration 71, loss = 111345749.21760385\n",
      "Iteration 72, loss = 109676511.30814496\n",
      "Iteration 73, loss = 108027611.87274542\n",
      "Iteration 74, loss = 106398847.56190486\n",
      "Iteration 75, loss = 104790016.83986315\n",
      "Iteration 76, loss = 103200920.00146289\n",
      "Iteration 77, loss = 101631359.18466166\n",
      "Iteration 78, loss = 100081138.37907490\n",
      "Iteration 79, loss = 98550063.43090007\n",
      "Iteration 80, loss = 97037942.04455309\n",
      "Iteration 81, loss = 95544583.78132014\n",
      "Iteration 82, loss = 94069800.05530959\n",
      "Iteration 83, loss = 92613404.12696616\n",
      "Iteration 84, loss = 91175211.09439014\n",
      "Iteration 85, loss = 89755037.88268735\n",
      "Iteration 86, loss = 88352703.23155566\n",
      "Iteration 87, loss = 86968027.68130204\n",
      "Iteration 88, loss = 85600833.55746403\n",
      "Iteration 89, loss = 84250944.95419993\n",
      "Iteration 90, loss = 82918187.71659584\n",
      "Iteration 91, loss = 81602389.42202777\n",
      "Iteration 92, loss = 80303379.36070360\n",
      "Iteration 93, loss = 79020988.51550117\n",
      "Iteration 94, loss = 77755049.54120794\n",
      "Iteration 95, loss = 76505396.74325842\n",
      "Iteration 96, loss = 75271866.05605870\n",
      "Iteration 97, loss = 74054295.02097799\n",
      "Iteration 98, loss = 72852522.76408070\n",
      "Iteration 99, loss = 71666389.97366714\n",
      "Iteration 100, loss = 70495738.87768234\n",
      "Iteration 101, loss = 69340413.22104985\n",
      "Iteration 102, loss = 68200258.24297996\n",
      "Iteration 103, loss = 67075120.65429863\n",
      "Iteration 104, loss = 65964848.61483806\n",
      "Iteration 105, loss = 64869291.71092642\n",
      "Iteration 106, loss = 63788300.93301107\n",
      "Iteration 107, loss = 62721728.65344453\n",
      "Iteration 108, loss = 61669428.60446201\n",
      "Iteration 109, loss = 60631255.85637416\n",
      "Iteration 110, loss = 59607066.79599745\n",
      "Iteration 111, loss = 58596719.10534196\n",
      "Iteration 112, loss = 57600071.74057399\n",
      "Iteration 113, loss = 56616984.91126954\n",
      "Iteration 114, loss = 55647320.05997168\n",
      "Iteration 115, loss = 54690939.84206531\n",
      "Iteration 116, loss = 53747708.10597887\n",
      "Iteration 117, loss = 52817489.87372303\n",
      "Iteration 118, loss = 51900151.32177444\n",
      "Iteration 119, loss = 50995559.76231126\n",
      "Iteration 120, loss = 50103583.62480698\n",
      "Iteration 121, loss = 49224092.43798707\n",
      "Iteration 122, loss = 48356956.81215287\n",
      "Iteration 123, loss = 47502048.42187629\n",
      "Iteration 124, loss = 46659239.98906756\n",
      "Iteration 125, loss = 45828405.26641855\n",
      "Iteration 126, loss = 45009419.02122276\n",
      "Iteration 127, loss = 44202157.01957307\n",
      "Iteration 128, loss = 43406496.01093756\n",
      "Iteration 129, loss = 42622313.71311320\n",
      "Iteration 130, loss = 41849488.79755717\n",
      "Iteration 131, loss = 41087900.87509485\n",
      "Iteration 132, loss = 40337430.48200315\n",
      "Iteration 133, loss = 39597959.06646779\n",
      "Iteration 134, loss = 38869368.97541260\n",
      "Iteration 135, loss = 38151543.44169849\n",
      "Iteration 136, loss = 37444366.57169053\n",
      "Iteration 137, loss = 36747723.33318929\n",
      "Iteration 138, loss = 36061499.54372469\n",
      "Iteration 139, loss = 35385581.85920878\n",
      "Iteration 140, loss = 34719857.76294434\n",
      "Iteration 141, loss = 34064215.55498595\n",
      "Iteration 142, loss = 33418544.34184999\n",
      "Iteration 143, loss = 32782734.02656958\n",
      "Iteration 144, loss = 32156675.29909116\n",
      "Iteration 145, loss = 31540259.62700796\n",
      "Iteration 146, loss = 30933379.24662696\n",
      "Iteration 147, loss = 30335927.15436451\n",
      "Iteration 148, loss = 29747797.09846660\n",
      "Iteration 149, loss = 29168883.57104910\n",
      "Iteration 150, loss = 28599081.80045348\n",
      "Iteration 151, loss = 28038287.74391323\n",
      "Iteration 152, loss = 27486398.08052622\n",
      "Iteration 153, loss = 26943310.20452822\n",
      "Iteration 154, loss = 26408922.21886230\n",
      "Iteration 155, loss = 25883132.92903953\n",
      "Iteration 156, loss = 25365841.83728523\n",
      "Iteration 157, loss = 24856949.13696606\n",
      "Iteration 158, loss = 24356355.70729241\n",
      "Iteration 159, loss = 23863963.10829058\n",
      "Iteration 160, loss = 23379673.57603966\n",
      "Iteration 161, loss = 22903390.01816720\n",
      "Iteration 162, loss = 22435016.00959824\n",
      "Iteration 163, loss = 21974455.78855223\n",
      "Iteration 164, loss = 21521614.25278155\n",
      "Iteration 165, loss = 21076396.95604661\n",
      "Iteration 166, loss = 20638710.10482106\n",
      "Iteration 167, loss = 20208460.55522152\n",
      "Iteration 168, loss = 19785555.81015582\n",
      "Iteration 169, loss = 19369904.01668377\n",
      "Iteration 170, loss = 18961413.96358429\n",
      "Iteration 171, loss = 18559995.07912303\n",
      "Iteration 172, loss = 18165557.42901421\n",
      "Iteration 173, loss = 17778011.71457046\n",
      "Iteration 174, loss = 17397269.27103463\n",
      "Iteration 175, loss = 17023242.06608719\n",
      "Iteration 176, loss = 16655842.69852301\n",
      "Iteration 177, loss = 16294984.39709119\n",
      "Iteration 178, loss = 15940581.01949180\n",
      "Iteration 179, loss = 15592547.05152282\n",
      "Iteration 180, loss = 15250797.60637147\n",
      "Iteration 181, loss = 14915248.42404303\n",
      "Iteration 182, loss = 14585815.87092119\n",
      "Iteration 183, loss = 14262416.93945337\n",
      "Iteration 184, loss = 13944969.24795464\n",
      "Iteration 185, loss = 13633391.04052399\n",
      "Iteration 186, loss = 13327601.18706645\n",
      "Iteration 187, loss = 13027519.18341484\n",
      "Iteration 188, loss = 12733065.15154476\n",
      "Iteration 189, loss = 12444159.83987649\n",
      "Iteration 190, loss = 12160724.62365762\n",
      "Iteration 191, loss = 11882681.50541995\n",
      "Iteration 192, loss = 11609953.11550478\n",
      "Iteration 193, loss = 11342462.71265005\n",
      "Iteration 194, loss = 11080134.18463337\n",
      "Iteration 195, loss = 10822892.04896490\n",
      "Iteration 196, loss = 10570661.45362385\n",
      "Iteration 197, loss = 10323368.17783286\n",
      "Iteration 198, loss = 10080938.63286410\n",
      "Iteration 199, loss = 9843299.86287133\n",
      "Iteration 200, loss = 9610379.54574223\n",
      "Iteration 201, loss = 9382105.99396509\n",
      "Iteration 202, loss = 9158408.15550429\n",
      "Iteration 203, loss = 8939215.61467915\n",
      "Iteration 204, loss = 8724458.59304044\n",
      "Iteration 205, loss = 8514067.95023934\n",
      "Iteration 206, loss = 8307975.18488352\n",
      "Iteration 207, loss = 8106112.43537512\n",
      "Iteration 208, loss = 7908412.48072556\n",
      "Iteration 209, loss = 7714808.74134229\n",
      "Iteration 210, loss = 7525235.27978237\n",
      "Iteration 211, loss = 7339626.80146846\n",
      "Iteration 212, loss = 7157918.65536230\n",
      "Iteration 213, loss = 6980046.83459133\n",
      "Iteration 214, loss = 6805947.97702397\n",
      "Iteration 215, loss = 6635559.36578939\n",
      "Iteration 216, loss = 6468818.92973752\n",
      "Iteration 217, loss = 6305665.24383542\n",
      "Iteration 218, loss = 6146037.52949602\n",
      "Iteration 219, loss = 5989875.65483572\n",
      "Iteration 220, loss = 5837120.13485700\n",
      "Iteration 221, loss = 5687712.13155279\n",
      "Iteration 222, loss = 5541593.45392929\n",
      "Iteration 223, loss = 5398706.55794408\n",
      "Iteration 224, loss = 5258994.54635637\n",
      "Iteration 225, loss = 5122401.16848696\n",
      "Iteration 226, loss = 4988870.81988471\n",
      "Iteration 227, loss = 4858348.54189740\n",
      "Iteration 228, loss = 4730780.02114439\n",
      "Iteration 229, loss = 4606111.58888890\n",
      "Iteration 230, loss = 4484290.22030786\n",
      "Iteration 231, loss = 4365263.53365746\n",
      "Iteration 232, loss = 4248979.78933253\n",
      "Iteration 233, loss = 4135387.88881833\n",
      "Iteration 234, loss = 4024437.37353312\n",
      "Iteration 235, loss = 3916078.42356041\n",
      "Iteration 236, loss = 3810261.85626962\n",
      "Iteration 237, loss = 3706939.12482427\n",
      "Iteration 238, loss = 3606062.31657690\n",
      "Iteration 239, loss = 3507584.15134994\n",
      "Iteration 240, loss = 3411457.97960219\n",
      "Iteration 241, loss = 3317637.78048036\n",
      "Iteration 242, loss = 3226078.15975571\n",
      "Iteration 243, loss = 3136734.34764542\n",
      "Iteration 244, loss = 3049562.19651905\n",
      "Iteration 245, loss = 2964518.17849018\n",
      "Iteration 246, loss = 2881559.38289353\n",
      "Iteration 247, loss = 2800643.51364830\n",
      "Iteration 248, loss = 2721728.88650806\n",
      "Iteration 249, loss = 2644774.42619820\n",
      "Iteration 250, loss = 2569739.66344175\n",
      "Iteration 251, loss = 2496584.73187455\n",
      "Iteration 252, loss = 2425270.36485105\n",
      "Iteration 253, loss = 2355757.89214180\n",
      "Iteration 254, loss = 2288009.23652427\n",
      "Iteration 255, loss = 2221986.91026821\n",
      "Iteration 256, loss = 2157654.01151747\n",
      "Iteration 257, loss = 2094974.22056970\n",
      "Iteration 258, loss = 2033911.79605584\n",
      "Iteration 259, loss = 1974431.57102147\n",
      "Iteration 260, loss = 1916498.94891168\n",
      "Iteration 261, loss = 1860079.89946192\n",
      "Iteration 262, loss = 1805140.95449668\n",
      "Iteration 263, loss = 1751649.20363845\n",
      "Iteration 264, loss = 1699572.28992923\n",
      "Iteration 265, loss = 1648878.40536701\n",
      "Iteration 266, loss = 1599536.28635959\n",
      "Iteration 267, loss = 1551515.20909837\n",
      "Iteration 268, loss = 1504784.98485476\n",
      "Iteration 269, loss = 1459315.95520161\n",
      "Iteration 270, loss = 1415078.98716261\n",
      "Iteration 271, loss = 1372045.46829229\n",
      "Iteration 272, loss = 1330187.30168933\n",
      "Iteration 273, loss = 1289476.90094614\n",
      "Iteration 274, loss = 1249887.18503743\n",
      "Iteration 275, loss = 1211391.57315076\n",
      "Iteration 276, loss = 1173963.97946186\n",
      "Iteration 277, loss = 1137578.80785774\n",
      "Iteration 278, loss = 1102210.94661042\n",
      "Iteration 279, loss = 1067835.76300441\n",
      "Iteration 280, loss = 1034429.09792061\n",
      "Iteration 281, loss = 1001967.26037997\n",
      "Iteration 282, loss = 970427.02204948\n",
      "Iteration 283, loss = 939785.61171373\n",
      "Iteration 284, loss = 910020.70971492\n",
      "Iteration 285, loss = 881110.44236420\n",
      "Iteration 286, loss = 853033.37632729\n",
      "Iteration 287, loss = 825768.51298742\n",
      "Iteration 288, loss = 799295.28278823\n",
      "Iteration 289, loss = 773593.53955979\n",
      "Iteration 290, loss = 748643.55483030\n",
      "Iteration 291, loss = 724426.01212658\n",
      "Iteration 292, loss = 700922.00126583\n",
      "Iteration 293, loss = 678113.01264161\n",
      "Iteration 294, loss = 655980.93150670\n",
      "Iteration 295, loss = 634508.03225548\n",
      "Iteration 296, loss = 613676.97270847\n",
      "Iteration 297, loss = 593470.78840164\n",
      "Iteration 298, loss = 573872.88688300\n",
      "Iteration 299, loss = 554867.04201892\n",
      "Iteration 300, loss = 536437.38831278\n",
      "Iteration 301, loss = 518568.41523807\n",
      "Iteration 302, loss = 501244.96158855\n",
      "Iteration 303, loss = 484452.20984756\n",
      "Iteration 304, loss = 468175.68057883\n",
      "Iteration 305, loss = 452401.22684076\n",
      "Iteration 306, loss = 437115.02862661\n",
      "Iteration 307, loss = 422303.58733226\n",
      "Iteration 308, loss = 407953.72025383\n",
      "Iteration 309, loss = 394052.55511696\n",
      "Iteration 310, loss = 380587.52463956\n",
      "Iteration 311, loss = 367546.36112998\n",
      "Iteration 312, loss = 354917.09112219\n",
      "Iteration 313, loss = 342688.03004979\n",
      "Iteration 314, loss = 330847.77696028\n",
      "Iteration 315, loss = 319385.20927133\n",
      "Iteration 316, loss = 308289.47757040\n",
      "Iteration 317, loss = 297550.00045922\n",
      "Iteration 318, loss = 287156.45944437\n",
      "Iteration 319, loss = 277098.79387543\n",
      "Iteration 320, loss = 267367.19593172\n",
      "Iteration 321, loss = 257952.10565899\n",
      "Iteration 322, loss = 248844.20605701\n",
      "Iteration 323, loss = 240034.41821925\n",
      "Iteration 324, loss = 231513.89652550\n",
      "Iteration 325, loss = 223274.02388839\n",
      "Iteration 326, loss = 215306.40705476\n",
      "Iteration 327, loss = 207602.87196253\n",
      "Iteration 328, loss = 200155.45915390\n",
      "Iteration 329, loss = 192956.41924562\n",
      "Iteration 330, loss = 185998.20845683\n",
      "Iteration 331, loss = 179273.48419510\n",
      "Iteration 332, loss = 172775.10070123\n",
      "Iteration 333, loss = 166496.10475323\n",
      "Iteration 334, loss = 160429.73142987\n",
      "Iteration 335, loss = 154569.39993423\n",
      "Iteration 336, loss = 148908.70947748\n",
      "Iteration 337, loss = 143441.43522318\n",
      "Iteration 338, loss = 138161.52429237\n",
      "Iteration 339, loss = 133063.09182953\n",
      "Iteration 340, loss = 128140.41712955\n",
      "Iteration 341, loss = 123387.93982578\n",
      "Iteration 342, loss = 118800.25613933\n",
      "Iteration 343, loss = 114372.11518928\n",
      "Iteration 344, loss = 110098.41536419\n",
      "Iteration 345, loss = 105974.20075439\n",
      "Iteration 346, loss = 101994.65764525\n",
      "Iteration 347, loss = 98155.11107106\n",
      "Iteration 348, loss = 94451.02142945\n",
      "Iteration 349, loss = 90877.98115603\n",
      "Iteration 350, loss = 87431.71145899\n",
      "Iteration 351, loss = 84108.05911347\n",
      "Iteration 352, loss = 80902.99331520\n",
      "Iteration 353, loss = 77812.60259315\n",
      "Iteration 354, loss = 74833.09178088\n",
      "Iteration 355, loss = 71960.77904597\n",
      "Iteration 356, loss = 69192.09297732\n",
      "Iteration 357, loss = 66523.56972967\n",
      "Iteration 358, loss = 63951.85022503\n",
      "Iteration 359, loss = 61473.67741035\n",
      "Iteration 360, loss = 59085.89357102\n",
      "Iteration 361, loss = 56785.43769963\n",
      "Iteration 362, loss = 54569.34291936\n",
      "Iteration 363, loss = 52434.73396153\n",
      "Iteration 364, loss = 50378.82469664\n",
      "Iteration 365, loss = 48398.91571830\n",
      "Iteration 366, loss = 46492.39197945\n",
      "Iteration 367, loss = 44656.72048021\n",
      "Iteration 368, loss = 42889.44800671\n",
      "Iteration 369, loss = 41188.19892029\n",
      "Iteration 370, loss = 39550.67299630\n",
      "Iteration 371, loss = 37974.64331193\n",
      "Iteration 372, loss = 36457.95418232\n",
      "Iteration 373, loss = 34998.51914431\n",
      "Iteration 374, loss = 33594.31898701\n",
      "Iteration 375, loss = 32243.39982866\n",
      "Iteration 376, loss = 30943.87123895\n",
      "Iteration 377, loss = 29693.90440610\n",
      "Iteration 378, loss = 28491.73034802\n",
      "Iteration 379, loss = 27335.63816680\n",
      "Iteration 380, loss = 26223.97334588\n",
      "Iteration 381, loss = 25155.13608900\n",
      "Iteration 382, loss = 24127.57970048\n",
      "Iteration 383, loss = 23139.80900582\n",
      "Iteration 384, loss = 22190.37881216\n",
      "Iteration 385, loss = 21277.89240764\n",
      "Iteration 386, loss = 20401.00009918\n",
      "Iteration 387, loss = 19558.39778774\n",
      "Iteration 388, loss = 18748.82558053\n",
      "Iteration 389, loss = 17971.06643932\n",
      "Iteration 390, loss = 17223.94486430\n",
      "Iteration 391, loss = 16506.32561261\n",
      "Iteration 392, loss = 15817.11245098\n",
      "Iteration 393, loss = 15155.24694175\n",
      "Iteration 394, loss = 14519.70726153\n",
      "Iteration 395, loss = 13909.50705197\n",
      "Iteration 396, loss = 13323.69430174\n",
      "Iteration 397, loss = 12761.35025929\n",
      "Iteration 398, loss = 12221.58837552\n",
      "Iteration 399, loss = 11703.55327593\n",
      "Iteration 400, loss = 11206.41976136\n",
      "Iteration 401, loss = 10729.39183687\n",
      "Iteration 402, loss = 10271.70176803\n",
      "Iteration 403, loss = 9832.60916408\n",
      "Iteration 404, loss = 9411.40008723\n",
      "Iteration 405, loss = 9007.38618759\n",
      "Iteration 406, loss = 8619.90386311\n",
      "Iteration 407, loss = 8248.31344388\n",
      "Iteration 408, loss = 7891.99840035\n",
      "Iteration 409, loss = 7550.36457467\n",
      "Iteration 410, loss = 7222.83943487\n",
      "Iteration 411, loss = 6908.87135107\n",
      "Iteration 412, loss = 6607.92889331\n",
      "Iteration 413, loss = 6319.50015045\n",
      "Iteration 414, loss = 6043.09206958\n",
      "Iteration 415, loss = 5778.22981545\n",
      "Iteration 416, loss = 5524.45614935\n",
      "Iteration 417, loss = 5281.33082707\n",
      "Iteration 418, loss = 5048.43001528\n",
      "Iteration 419, loss = 4825.34572598\n",
      "Iteration 420, loss = 4611.68526848\n",
      "Iteration 421, loss = 4407.07071845\n",
      "Iteration 422, loss = 4211.13840366\n",
      "Iteration 423, loss = 4023.53840580\n",
      "Iteration 424, loss = 3843.93407814\n",
      "Iteration 425, loss = 3672.00157846\n",
      "Iteration 426, loss = 3507.42941685\n",
      "Iteration 427, loss = 3349.91801806\n",
      "Iteration 428, loss = 3199.17929789\n",
      "Iteration 429, loss = 3054.93625323\n",
      "Iteration 430, loss = 2916.92256554\n",
      "Iteration 431, loss = 2784.88221707\n",
      "Iteration 432, loss = 2658.56911979\n",
      "Iteration 433, loss = 2537.74675644\n",
      "Iteration 434, loss = 2422.18783348\n",
      "Iteration 435, loss = 2311.67394546\n",
      "Iteration 436, loss = 2205.99525065\n",
      "Iteration 437, loss = 2104.95015746\n",
      "Iteration 438, loss = 2008.34502139\n",
      "Iteration 439, loss = 1915.99385218\n",
      "Iteration 440, loss = 1827.71803087\n",
      "Iteration 441, loss = 1743.34603649\n",
      "Iteration 442, loss = 1662.71318200\n",
      "Iteration 443, loss = 1585.66135934\n",
      "Iteration 444, loss = 1512.03879319\n",
      "Iteration 445, loss = 1441.69980322\n",
      "Iteration 446, loss = 1374.50457461\n",
      "Iteration 447, loss = 1310.31893646\n",
      "Iteration 448, loss = 1249.01414804\n",
      "Iteration 449, loss = 1190.46669240\n",
      "Iteration 450, loss = 1134.55807732\n",
      "Iteration 451, loss = 1081.17464325\n",
      "Iteration 452, loss = 1030.20737799\n",
      "Iteration 453, loss = 981.55173806\n",
      "Iteration 454, loss = 935.10747635\n",
      "Iteration 455, loss = 890.77847592\n",
      "Iteration 456, loss = 848.47258987\n",
      "Iteration 457, loss = 808.10148685\n",
      "Iteration 458, loss = 769.58050225\n",
      "Iteration 459, loss = 732.82849474\n",
      "Iteration 460, loss = 697.76770800\n",
      "Iteration 461, loss = 664.32363759\n",
      "Iteration 462, loss = 632.42490262\n",
      "Iteration 463, loss = 602.00312215\n",
      "Iteration 464, loss = 572.99279616\n",
      "Iteration 465, loss = 545.33119094\n",
      "Iteration 466, loss = 518.95822871\n",
      "Iteration 467, loss = 493.81638134\n",
      "Iteration 468, loss = 469.85056810\n",
      "Iteration 469, loss = 447.00805716\n",
      "Iteration 470, loss = 425.23837086\n",
      "Iteration 471, loss = 404.49319453\n",
      "Iteration 472, loss = 384.72628879\n",
      "Iteration 473, loss = 365.89340510\n",
      "Iteration 474, loss = 347.95220461\n",
      "Iteration 475, loss = 330.86218011\n",
      "Iteration 476, loss = 314.58458088\n",
      "Iteration 477, loss = 299.08234054\n",
      "Iteration 478, loss = 284.32000763\n",
      "Iteration 479, loss = 270.26367887\n",
      "Iteration 480, loss = 256.88093502\n",
      "Iteration 481, loss = 244.14077925\n",
      "Iteration 482, loss = 232.01357787\n",
      "Iteration 483, loss = 220.47100346\n",
      "Iteration 484, loss = 209.48598017\n",
      "Iteration 485, loss = 199.03263116\n",
      "Iteration 486, loss = 189.08622820\n",
      "Iteration 487, loss = 179.62314319\n",
      "Iteration 488, loss = 170.62080160\n",
      "Iteration 489, loss = 162.05763788\n",
      "Iteration 490, loss = 153.91305248\n",
      "Iteration 491, loss = 146.16737074\n",
      "Iteration 492, loss = 138.80180337\n",
      "Iteration 493, loss = 131.79840849\n",
      "Iteration 494, loss = 125.14005531\n",
      "Iteration 495, loss = 118.81038914\n",
      "Iteration 496, loss = 112.79379797\n",
      "Iteration 497, loss = 107.07538029\n",
      "Iteration 498, loss = 101.64091432\n",
      "Iteration 499, loss = 96.47682842\n",
      "Iteration 500, loss = 91.57017278\n",
      "Iteration 501, loss = 86.90859226\n",
      "Iteration 502, loss = 82.48030033\n",
      "Iteration 503, loss = 78.27405411\n",
      "Iteration 504, loss = 74.27913046\n",
      "Iteration 505, loss = 70.48530304\n",
      "Iteration 506, loss = 66.88282033\n",
      "Iteration 507, loss = 63.46238462\n",
      "Iteration 508, loss = 60.21513180\n",
      "Iteration 509, loss = 57.13261206\n",
      "Iteration 510, loss = 54.20677144\n",
      "Iteration 511, loss = 51.42993403\n",
      "Iteration 512, loss = 48.79478507\n",
      "Iteration 513, loss = 46.29435472\n",
      "Iteration 514, loss = 43.92200244\n",
      "Iteration 515, loss = 41.67140219\n",
      "Iteration 516, loss = 39.53652816\n",
      "Iteration 517, loss = 37.51164113\n",
      "Iteration 518, loss = 35.59127543\n",
      "Iteration 519, loss = 33.77022648\n",
      "Iteration 520, loss = 32.04353886\n",
      "Iteration 521, loss = 30.40649487\n",
      "Iteration 522, loss = 28.85460361\n",
      "Iteration 523, loss = 27.38359058\n",
      "Iteration 524, loss = 25.98938766\n",
      "Iteration 525, loss = 24.66812356\n",
      "Iteration 526, loss = 23.41611472\n",
      "Iteration 527, loss = 22.22985658\n",
      "Iteration 528, loss = 21.10601525\n",
      "Iteration 529, loss = 20.04141953\n",
      "Iteration 530, loss = 19.03305331\n",
      "Iteration 531, loss = 18.07804829\n",
      "Iteration 532, loss = 17.17367705\n",
      "Iteration 533, loss = 16.31734639\n",
      "Iteration 534, loss = 15.50659103\n",
      "Iteration 535, loss = 14.73906751\n",
      "Iteration 536, loss = 14.01254846\n",
      "Iteration 537, loss = 13.32491706\n",
      "Iteration 538, loss = 12.67416175\n",
      "Iteration 539, loss = 12.05837127\n",
      "Iteration 540, loss = 11.47572978\n",
      "Iteration 541, loss = 10.92451237\n",
      "Iteration 542, loss = 10.40308060\n",
      "Iteration 543, loss = 9.90987840\n",
      "Iteration 544, loss = 9.44342808\n",
      "Iteration 545, loss = 9.00232653\n",
      "Iteration 546, loss = 8.58524158\n",
      "Iteration 547, loss = 8.19090859\n",
      "Iteration 548, loss = 7.81812717\n",
      "Iteration 549, loss = 7.46575797\n",
      "Iteration 550, loss = 7.13271980\n",
      "Iteration 551, loss = 6.81798668\n",
      "Iteration 552, loss = 6.52058518\n",
      "Iteration 553, loss = 6.23959184\n",
      "Iteration 554, loss = 5.97413066\n",
      "Iteration 555, loss = 5.72337079\n",
      "Iteration 556, loss = 5.48652428\n",
      "Iteration 557, loss = 5.26284395\n",
      "Iteration 558, loss = 5.05162134\n",
      "Iteration 559, loss = 4.85218482\n",
      "Iteration 560, loss = 4.66389772\n",
      "Iteration 561, loss = 4.48615657\n",
      "Iteration 562, loss = 4.31838945\n",
      "Iteration 563, loss = 4.16005441\n",
      "Iteration 564, loss = 4.01063793\n",
      "Iteration 565, loss = 3.86965350\n",
      "Iteration 566, loss = 3.73664027\n",
      "Iteration 567, loss = 3.61116169\n",
      "Iteration 568, loss = 3.49280435\n",
      "Iteration 569, loss = 3.38117673\n",
      "Iteration 570, loss = 3.27590814\n",
      "Iteration 571, loss = 3.17664761\n",
      "Iteration 572, loss = 3.08306289\n",
      "Iteration 573, loss = 2.99483951\n",
      "Iteration 574, loss = 2.91167983\n",
      "Iteration 575, loss = 2.83330219\n",
      "Iteration 576, loss = 2.75944007\n",
      "Iteration 577, loss = 2.68984135\n",
      "Iteration 578, loss = 2.62426747\n",
      "Iteration 579, loss = 2.56249282\n",
      "Iteration 580, loss = 2.50430401\n",
      "Iteration 581, loss = 2.44949925\n",
      "Iteration 582, loss = 2.39788773\n",
      "Iteration 583, loss = 2.34928904\n",
      "Iteration 584, loss = 2.30353264\n",
      "Iteration 585, loss = 2.26045735\n",
      "Iteration 586, loss = 2.21991080\n",
      "Iteration 587, loss = 2.18174902\n",
      "Iteration 588, loss = 2.14583598\n",
      "Iteration 589, loss = 2.11204314\n",
      "Iteration 590, loss = 2.08024909\n",
      "Iteration 591, loss = 2.05033914\n",
      "Iteration 592, loss = 2.02220498\n",
      "Iteration 593, loss = 1.99574431\n",
      "Iteration 594, loss = 1.97086057\n",
      "Iteration 595, loss = 1.94746256\n",
      "Iteration 596, loss = 1.92546421\n",
      "Iteration 597, loss = 1.90478426\n",
      "Iteration 598, loss = 1.88534605\n",
      "Iteration 599, loss = 1.86707719\n",
      "Iteration 600, loss = 1.84990944\n",
      "Iteration 601, loss = 1.83377835\n",
      "Iteration 602, loss = 1.81862319\n",
      "Iteration 603, loss = 1.80438662\n",
      "Iteration 604, loss = 1.79101460\n",
      "Iteration 605, loss = 1.77845616\n",
      "Iteration 606, loss = 1.76666324\n",
      "Iteration 607, loss = 1.75559054\n",
      "Iteration 608, loss = 1.74519535\n",
      "Iteration 609, loss = 1.73543741\n",
      "Iteration 610, loss = 1.72627878\n",
      "Iteration 611, loss = 1.71768373\n",
      "Iteration 612, loss = 1.70961858\n",
      "Iteration 613, loss = 1.70205158\n",
      "Iteration 614, loss = 1.69495287\n",
      "Iteration 615, loss = 1.68829429\n",
      "Iteration 616, loss = 1.68204933\n",
      "Iteration 617, loss = 1.67619304\n",
      "Iteration 618, loss = 1.67070191\n",
      "Iteration 619, loss = 1.66555383\n",
      "Iteration 620, loss = 1.66072797\n",
      "Iteration 621, loss = 1.65620474\n",
      "Iteration 622, loss = 1.65196570\n",
      "Iteration 623, loss = 1.64799350\n",
      "Iteration 624, loss = 1.64427181\n",
      "Iteration 625, loss = 1.64078529\n",
      "Iteration 626, loss = 1.63751949\n",
      "Iteration 627, loss = 1.63446084\n",
      "Iteration 628, loss = 1.63159656\n",
      "Iteration 629, loss = 1.62891464\n",
      "Iteration 630, loss = 1.62640381\n",
      "Iteration 631, loss = 1.62405345\n",
      "Iteration 632, loss = 1.62185359\n",
      "Iteration 633, loss = 1.61979487\n",
      "Iteration 634, loss = 1.61786847\n",
      "Iteration 635, loss = 1.61606614\n",
      "Iteration 636, loss = 1.61438011\n",
      "Iteration 637, loss = 1.61280307\n",
      "Iteration 638, loss = 1.61132817\n",
      "Iteration 639, loss = 1.60994899\n",
      "Iteration 640, loss = 1.60865948\n",
      "Iteration 641, loss = 1.60745397\n",
      "Iteration 642, loss = 1.60632715\n",
      "Iteration 643, loss = 1.60527401\n",
      "Iteration 644, loss = 1.60428986\n",
      "Iteration 645, loss = 1.60337032\n",
      "Iteration 646, loss = 1.60251126\n",
      "Iteration 647, loss = 1.60170880\n",
      "Iteration 648, loss = 1.60095933\n",
      "Iteration 649, loss = 1.60025943\n",
      "Iteration 650, loss = 1.59960591\n",
      "Iteration 651, loss = 1.59899579\n",
      "Iteration 652, loss = 1.59842626\n",
      "Iteration 653, loss = 1.59789469\n",
      "Iteration 654, loss = 1.59739862\n",
      "Iteration 655, loss = 1.59693575\n",
      "Iteration 656, loss = 1.59650390\n",
      "Iteration 657, loss = 1.59610106\n",
      "Iteration 658, loss = 1.59572533\n",
      "Iteration 659, loss = 1.59537494\n",
      "Iteration 660, loss = 1.59504821\n",
      "Iteration 661, loss = 1.59474360\n",
      "Iteration 662, loss = 1.59445965\n",
      "Iteration 663, loss = 1.59419499\n",
      "Iteration 664, loss = 1.59394834\n",
      "Iteration 665, loss = 1.59371852\n",
      "Iteration 666, loss = 1.59350440\n",
      "Iteration 667, loss = 1.59330494\n",
      "Iteration 668, loss = 1.59311916\n",
      "Iteration 669, loss = 1.59294614\n",
      "Iteration 670, loss = 1.59278504\n",
      "Iteration 671, loss = 1.59263505\n",
      "Iteration 672, loss = 1.59249543\n",
      "Iteration 673, loss = 1.59236547\n",
      "Iteration 674, loss = 1.59224453\n",
      "Iteration 675, loss = 1.59213199\n",
      "Iteration 676, loss = 1.59202729\n",
      "Iteration 677, loss = 1.59192989\n",
      "Iteration 678, loss = 1.59183929\n",
      "Iteration 679, loss = 1.59175504\n",
      "Iteration 680, loss = 1.59167670\n",
      "Iteration 681, loss = 1.59160386\n",
      "Iteration 682, loss = 1.59153615\n",
      "Iteration 683, loss = 1.59147321\n",
      "Iteration 684, loss = 1.59141472\n",
      "Iteration 685, loss = 1.59136037\n",
      "Iteration 686, loss = 1.59130986\n",
      "Iteration 687, loss = 1.59126295\n",
      "Iteration 688, loss = 1.59121937\n",
      "Iteration 689, loss = 1.59117889\n",
      "Iteration 690, loss = 1.59114130\n",
      "Iteration 691, loss = 1.59110640\n",
      "Iteration 692, loss = 1.59107399\n",
      "Iteration 693, loss = 1.59104391\n",
      "Iteration 694, loss = 1.59101598\n",
      "Iteration 695, loss = 1.59099007\n",
      "Iteration 696, loss = 1.59096602\n",
      "Iteration 697, loss = 1.59094370\n",
      "Iteration 698, loss = 1.59092299\n",
      "Iteration 699, loss = 1.59090378\n",
      "Iteration 700, loss = 1.59088596\n",
      "Iteration 701, loss = 1.59086942\n",
      "Iteration 702, loss = 1.59085409\n",
      "Iteration 703, loss = 1.59083987\n",
      "Iteration 704, loss = 1.59082668\n",
      "Iteration 705, loss = 1.59081445\n",
      "Iteration 706, loss = 1.59080311\n",
      "Iteration 707, loss = 1.59079259\n",
      "Iteration 708, loss = 1.59078284\n",
      "Iteration 709, loss = 1.59077379\n",
      "Iteration 710, loss = 1.59076541\n",
      "Iteration 711, loss = 1.59075763\n",
      "Iteration 712, loss = 1.59075042\n",
      "Iteration 713, loss = 1.59074374\n",
      "Iteration 714, loss = 1.59073754\n",
      "Iteration 715, loss = 1.59073179\n",
      "Iteration 716, loss = 1.59072646\n",
      "Iteration 717, loss = 1.59072151\n",
      "Iteration 718, loss = 1.59071692\n",
      "Training loss did not improve more than tol=0.000010 for 10 consecutive epochs. Stopping.\n"
     ]
    }
   ],
   "source": [
    "from sklearn.neural_network import MLPRegressor;\n",
    "\n",
    "# Setup MLPRegressor\n",
    "mlp = MLPRegressor( hidden_layer_sizes=(10,), solver='adam', activation='relu', tol=1E-5, max_iter=100000, verbose=True);\n",
    "\n",
    "mlp.fit(X, y.ravel())\n",
    "\n",
    "# lets make a MLP regressor prediction and redo the plots\n",
    "y_pred_mlp = mlp.predict(M)"
   ]
  },
  {
   "cell_type": "code",
   "execution_count": 48,
   "metadata": {},
   "outputs": [
    {
     "data": {
      "image/png": "[encoded data removed]",
      "text/plain": [
       "<Figure size 640x480 with 1 Axes>"
      ]
     },
     "metadata": {},
     "output_type": "display_data"
    }
   ],
   "source": [
    "plt.plot(m, y_pred_lin, \"r\", label=\"linear\")\n",
    "plt.plot(m, y_pred_knn, \"b\", label=\"neigh=3\")\n",
    "plt.plot(m, y_pred_mlp, \"k\", label=\"MLP\")\n",
    "plt.legend();"
   ]
  },
  {
   "cell_type": "code",
   "execution_count": 49,
   "metadata": {},
   "outputs": [
    {
     "name": "stdout",
     "output_type": "stream",
     "text": [
      "MLP score:  -3.6741440524093\n",
      "K-nearstneighbor=3 score: 0.8525732853499179\n",
      "Linearregression score: 0.7344414355437031\n"
     ]
    }
   ],
   "source": [
    "print(f\"MLP score:  {mlp.score(X, y)}\")\n",
    "print(f\"K-nearstneighbor=3 score: {knn.score(X, y)}\")\n",
    "print(f\"Linearregression score: {lin1.score(X, y)}\")"
   ]
  },
  {
   "cell_type": "markdown",
   "metadata": {},
   "source": [
    "The score for the MLP differs each time you train the model, sometimes the score is -25.42, -3.85 or other values. As we can observe both from the score and the plot the Multi-Layer Perception from the Neural Network does not fit the data well for iterations up till 10000. The score can again be used as a indicator of the fitness of the model. \n",
    "As we can see the data-set for the training does not scale well with the MLP without prescaling. The next chapter we will use the prescaling. "
   ]
  },
  {
   "cell_type": "markdown",
   "metadata": {},
   "source": [
    "# SWMAL Exercise Modules and Classes\n",
    "\n",
    "### Modules and Packages in Python\n",
    "\n",
    "#### Qa Load and test the `libitmal` module\n",
    "This chapter will decribe how to load and test modules. Firstly you have to import sys and os for being allowed to work with the  system and the operation system. Here you will load the gitmal package. The import can be done a few different ways and in the example below the expanduser will be used. You can see below that we print of the path and the files."
   ]
  },
  {
   "cell_type": "code",
   "execution_count": 50,
   "metadata": {},
   "outputs": [
    {
     "name": "stdout",
     "output_type": "stream",
     "text": [
      "['AssertInRange', 'CheckFloat', 'DToXy', 'GenerateConfusionMatrix', 'GenerateResults', 'InRange', 'Iterable', 'ListToMatrix', 'ListToVector', 'PrintMatrix', 'ResetRandom', 'ShowResult', 'TEST', 'TestAll', 'TestCheckFloat', 'TestPrintMatrix', 'TestVarName', 'VarName', 'XyToD', '__builtins__', '__cached__', '__doc__', '__file__', '__loader__', '__name__', '__package__', '__spec__', '__warningregistry__', 'ctxlib', 'inf', 'inspect', 'isFloat', 'isList', 'isNumpyArray', 'nan', 'np', 'random', 're', 'sklearn']\n",
      "c:\\Users\\oscar\\MAL\\mal12\\L01\\..\\libitmal\\utils.py\n",
      "TestPrintMatrix...(no regression testing)\n",
      "X=[[   1.    2.]\n",
      "   [   3. -100.]\n",
      "   [   1.   -1.]]\n",
      "X=[[ 1.  2.]\n",
      "   ...\n",
      "   [ 1. -1.]]\n",
      "X=[[   1.\n",
      "       2.    ]\n",
      "   [   3.0001\n",
      "    -100.    ]\n",
      "   [   1.\n",
      "      -1.    ]]\n",
      "X=[[   1.    2.]\n",
      "   [   3. -100.]\n",
      "   [   1.   -1.]]\n",
      "OK\n",
      "TEST: OK\n",
      "ALL OK\n"
     ]
    }
   ],
   "source": [
    "import sys,os\n",
    "sys.path.append(os.path.expanduser('../'))\n",
    "\n",
    "from libitmal import utils as itmalutils\n",
    "print(dir(itmalutils))\n",
    "print(itmalutils.__file__)\n",
    "itmalutils.TestAll()\n"
   ]
  },
  {
   "cell_type": "markdown",
   "metadata": {},
   "source": [
    "#### Qb Create your own module, with some functions, and test it\n",
    "\n",
    "Here we create our own module. The module is places inside the mal12, which is our github folder. This will make it easy to collaborate and will be pushed every time changed are made. Creating our module is done by creating two files. The \"__init__.py\" and \"utils.py\" "
   ]
  },
  {
   "cell_type": "code",
   "execution_count": 73,
   "metadata": {},
   "outputs": [
    {
     "name": "stdout",
     "output_type": "stream",
     "text": [
      "['L1', 'L2', 'L2Dot', '__builtins__', '__cached__', '__doc__', '__file__', '__loader__', '__name__', '__package__', '__spec__', 'checkArraySize', 'checkArraySizeCoantainsElements', 'np']\n",
      "<module 'UtilsMAL.utils' from 'c:\\\\Users\\\\oscar\\\\MAL\\\\mal12\\\\L01\\\\..\\\\UtilsMAL\\\\utils.py'>\n",
      "The answer for the L1: 12.0\n"
     ]
    }
   ],
   "source": [
    "import sys,os\n",
    "import numpy as np\n",
    "sys.path.append(os.path.expanduser('~/MAL\\mal12'))\n",
    "\n",
    "from UtilsMAL import utils as myUtils\n",
    "print(dir(myUtils))\n",
    "print(myUtils)\n",
    "\n",
    "L1= myUtils.L1\n",
    "\n",
    "dummy = np.array([3,4,5])\n",
    "print(f\"The answer for the L1: {L1(dummy)}\")"
   ]
  },
  {
   "cell_type": "markdown",
   "metadata": {},
   "source": [
    "#### Qc How do you 'recompile' a module?\n",
    "\n",
    "If you are using the Visual Studie Code the reloading works out-of-the-box. However, this is not the same for Jupyter Notebook. In Jupyter you have to either use the importlib or use a smart syntax for autoreload. The information is found at: [Jupyter Notebook Reload Module: A Comprehensive Guide](https://saturncloud.io/blog/jupyter-notebook-reload-module-a-comprehensive-guide/). Below you can see the different ways to reload. For autoreaload, when the parameter is set to 2 it load on every reload."
   ]
  },
  {
   "cell_type": "code",
   "execution_count": 52,
   "metadata": {},
   "outputs": [
    {
     "name": "stdout",
     "output_type": "stream",
     "text": [
      "The autoreload extension is already loaded. To reload it, use:\n",
      "  %reload_ext autoreload\n"
     ]
    }
   ],
   "source": [
    "import importlib\n",
    "importlib.reload(myUtils)\n",
    "\n",
    "# Auto reload\n",
    "%load_ext autoreload\n",
    "%autoreload 2"
   ]
  },
  {
   "cell_type": "markdown",
   "metadata": {},
   "source": [
    "### Classes in Python\n",
    "\n",
    "#### Qe Extend the class with some public and private functions and member variables\n",
    "\n",
    "For creating a class in python you will often see the keyword self. It is the representation of the instance of the class. The \"self\" keyword is be renamed, but the convention is self. If you forget the \"self\" keyword the class will be static. A static class are not allowed to call the members of the class or make a instance of the class. In the codesnippets below you can observe the `def myfun():` where self is forgotten. IF you run the code you will get the error: `TypeError: MyClass.myfun() takes 0 positional arguments but 1 was given`. The error is because a instance `myobjectx`  of MyClass is made and it attempt to call the `myobjectx.myfun()` Python will raise a the error, because it is excepting one argument \"self\". "
   ]
  },
  {
   "cell_type": "code",
   "execution_count": 53,
   "metadata": {},
   "outputs": [
    {
     "name": "stdout",
     "output_type": "stream",
     "text": [
      "This is a message inside the class, myvar=blah.\n",
      "None\n"
     ]
    }
   ],
   "source": [
    "class MyClass:\n",
    "    def myfun(self):\n",
    "        myvar = \"blah\" # NOTE: a per class-instance variable.\n",
    "        print(f\"This is a message inside the class, myvar={myvar}.\")\n",
    "\n",
    "myobjectx = MyClass()\n",
    "print(myobjectx.myfun())\n"
   ]
  },
  {
   "cell_type": "markdown",
   "metadata": {},
   "source": [
    "Member are public when there is non underscore before the variable. If there are one underscore the member are protected. Private if two underscores. The function are private if you use a single underscore as a prefix to their name. "
   ]
  },
  {
   "cell_type": "markdown",
   "metadata": {},
   "source": [
    "#### Qf Extend the class with a Constructor\n",
    "\n",
    "The constructor in Python is defined using the `__init__` method. The the constructor  take the parameter `self` and can be add more to parameter if needed. If you dont want a class the need a contructor, you can create a static class. The destructor in Python is ofte referred as `__del__` or `__del1__`. The destructor is used to define behavior that occurs when an object is about to be destroyed or garbage collected.   "
   ]
  },
  {
   "cell_type": "code",
   "execution_count": 54,
   "metadata": {},
   "outputs": [
    {
     "name": "stdout",
     "output_type": "stream",
     "text": [
      "Static instance\n"
     ]
    }
   ],
   "source": [
    "class NewClass:\n",
    "    def fun():\n",
    "        return (\"Static instance\"); # private instance attribute\n",
    "\n",
    "print(NewClass.fun());"
   ]
  },
  {
   "cell_type": "code",
   "execution_count": 55,
   "metadata": {},
   "outputs": [
    {
     "name": "stdout",
     "output_type": "stream",
     "text": [
      "This is a message inside the class, myvar=nontext.\n",
      "None\n"
     ]
    }
   ],
   "source": [
    "class MyClass:\n",
    "    def __init__(self, text):\n",
    "        self.__myvar=text  # private instance attribute\n",
    "\n",
    "    def myfun(self, text):\n",
    "        vs = text\n",
    "        print(f\"This is a message inside the class, myvar={vs}.\")\n",
    "\n",
    "myobjectx = MyClass(\"text\")\n",
    "\n",
    "print(myobjectx.myfun(\"nontext\"))"
   ]
  },
  {
   "cell_type": "markdown",
   "metadata": {},
   "source": [
    "#### Qg Extend the class with a to-string function\n",
    "\n",
    "This chapter will show how to make a `tostring()` function in Python. Call the function `__str__`, because the standard way to do it in Python. We call the funcion inside the print function. \n"
   ]
  },
  {
   "cell_type": "code",
   "execution_count": 75,
   "metadata": {},
   "outputs": [
    {
     "name": "stdout",
     "output_type": "stream",
     "text": [
      "MyClass instance with value: text\n"
     ]
    }
   ],
   "source": [
    "class MyClass:\n",
    "    def __init__(self, text):\n",
    "        self.__myvar=text \n",
    "    \n",
    "    def __str__(self):\n",
    "        return f\"MyClass instance with value: {self.__myvar}\"\n",
    "\n",
    "myobjectx = MyClass(\"text\")\n",
    "print(myobjectx)"
   ]
  },
  {
   "cell_type": "markdown",
   "metadata": {},
   "source": [
    "# SWMAL Exercise Cost function\n",
    "\n",
    "## Mathematical Foundation\n",
    "\n",
    "### Vector and matrix representation in python\n",
    "\n",
    "\n",
    "$$\n",
    "    \\providecommand\\rem[1]{}\n",
    "    \\rem{SWMAL: CEF def and LaTeX commands, remember: no newlines in defs}\n",
    "    \\providecommand\\eq[2]{#1 &=& #2\\\\}\n",
    "    \\providecommand\\ar[2]{\\begin{array}{#1}#2\\end{array}}\n",
    "    \\providecommand\\ac[2]{\\left[\\ar{#1}{#2}\\right]}\n",
    "    \\providecommand\\st[1]{_{\\scriptsize #1}}\n",
    "    \\providecommand\\norm[1]{{\\cal L}_{#1}}\n",
    "    \\providecommand\\obs[2]{#1_{\\text{\\scriptsize obs}}^{\\left(#2\\right)}}\n",
    "    \\providecommand\\diff[1]{\\text{d}#1}\n",
    "    \\providecommand\\pown[1]{^{(#1)}}\n",
    "    \\def\\pownn{\\pown{n}}\n",
    "    \\def\\powni{\\pown{i}}\n",
    "    \\def\\powtest{\\pown{\\text{\\scriptsize test}}}\n",
    "    \\def\\powtrain{\\pown{\\text{\\scriptsize train}}}\n",
    "    \\def\\bX{\\mathbf{M}}\n",
    "    \\def\\bX{\\mathbf{X}}\n",
    "    \\def\\bZ{\\mathbf{Z}}\n",
    "    \\def\\bw{\\mathbf{m}}\n",
    "    \\def\\bx{\\mathbf{x}}\n",
    "    \\def\\by{\\mathbf{y}}\n",
    "    \\def\\bz{\\mathbf{z}}\n",
    "    \\def\\bw{\\mathbf{w}}\n",
    "    \\def\\btheta{{\\boldsymbol\\theta}}\n",
    "    \\def\\bSigma{{\\boldsymbol\\Sigma}}\n",
    "    \\def\\half{\\frac{1}{2}}\n",
    "$$\n",
    "\n",
    "This exercise is about vector and matrix representation in Python. Firstly, there will be showed how to implement an array in python. Secondly, the $\\norm{1}$ and $\\norm{2}$ will be implemented without using `sqrt` or other mathmatical operators from math the library. \n",
    "\n",
    "#### Qa Given the following $\\mathbf{x}^{(i)}$'s, construct and print the $\\mathbf X$ matrix in python.\n",
    "\n",
    "$$\n",
    "    \\ar{rl}{\n",
    "      \\bx\\pown{1} &= \\ac{c}{ 1, 2, 3}^T \\\\\n",
    "      \\bx\\pown{2} &= \\ac{c}{ 4, 2, 1}^T \\\\\n",
    "      \\bx\\pown{3} &= \\ac{c}{ 3, 8, 5}^T \\\\\n",
    "      \\bx\\pown{4} &= \\ac{c}{-9,-1, 0}^T\n",
    "    }\n",
    "$$\n"
   ]
  },
  {
   "cell_type": "markdown",
   "metadata": {},
   "source": [
    "For using the Python in the course we will have to get familiar with Python and the libraries.\n",
    "In this chapter we will show how you can implement an array using numpy. You can either create the whole array at once or you can use the append function. The append take two arrays and put them together in a new array. Another function is the vstack, where the function vertically stack each element. "
   ]
  },
  {
   "cell_type": "code",
   "execution_count": 57,
   "metadata": {},
   "outputs": [
    {
     "name": "stdout",
     "output_type": "stream",
     "text": [
      "X = \n",
      "[[ 1  2  3]\n",
      " [ 4  2  1]\n",
      " [ 3  8  5]\n",
      " [-9 -1  0]]\n",
      "q = \n",
      "[[ 1  2  3]\n",
      " [ 4  2  1]\n",
      " [ 3  8  5]\n",
      " [-9 -1  0]]\n"
     ]
    }
   ],
   "source": [
    "import numpy as np\n",
    "y = np.array([1, 2, 3, 4]) # NOTE:  you'll need this later\n",
    "\n",
    "# Default method\n",
    "X = np.array([[1, 2, 3],[4, 2, 1], [3, 8, 5], [-9, -1, 0]])\n",
    "\n",
    "# print the full matrix\n",
    "print(f\"X = \\n{X}\")\n",
    "\n",
    "# use the vstack\n",
    "np.vstack(([1, 2, 3],[4, 2, 1], [3, 8, 5], [-9, -1, 0]))\n",
    "\n",
    "\n",
    "\n",
    "# Use append \n",
    "q= np.array([[1, 2, 3],[4, 2, 1]] ) # NOTE:  you'll need this later\n",
    "q = np.append(q, [[3, 8, 5], [-9, -1, 0]],axis = 0)\n",
    "\n",
    "# print the full matrix\n",
    "print(f\"q = \\n{q}\")"
   ]
  },
  {
   "cell_type": "markdown",
   "metadata": {},
   "source": [
    "### Norms, metrics or distances\n",
    "\n",
    "#### Qb Implement the $\\norm{1}$ and $\\norm{2}$ norms for vectors in python.\n",
    "\n",
    "Here we will ilustrate how to use the norms, metrices or distances. The first thing you will notice below is two functions for error validation, that belongs to an exercise that will be decribed later on. The test of the validation is done up here, we will explain alot more later on. Just below the validation function, you can observe the L1, L2 and L2Dot. The L1 is given the distance between two vectors. Therefore, it takes the absolute value and sum all numbers together.\n",
    "\n",
    "\n",
    "$$\n",
    "    \\ar{ll}{      \n",
    "          \\text{d}(\\bx,\\by) &= ||\\bx-\\by||_2\\\\\n",
    "                     &= \\left( \\sum_{i=1}^n \\left| x_{i}-y_{i} \\right|^2 \\right)^{1/2}\n",
    "    }\n",
    "$$ \n",
    "\n",
    " The L2 is the Eucalidian distance or norm for a vector. You can define it through a sum operation or a dot operation. Dot operation is vector multiplied with itself\n",
    "\n",
    "$$\n",
    "    \\norm{2}:~~ ||\\bx||_2 = \\left( \\sum_{i=1}^{n} |x_i|^2 \\right)^{1/2}\\\\\n",
    "$$ \n",
    "\n"
   ]
  },
  {
   "cell_type": "code",
   "execution_count": 58,
   "metadata": {},
   "outputs": [
    {
     "name": "stdout",
     "output_type": "stream",
     "text": [
      "tx-ty=[-2  3 -1 -2], d1-expected_d1=0.0, d2-expected_d2=0.0\n",
      "OK(part-1)\n",
      "d2dot-expected_d2= 0.0\n",
      "OK(part-2)\n"
     ]
    }
   ],
   "source": [
    "import math\n",
    "\n",
    "def checkArraySize(X):\n",
    "    assert X.shape[0]>=0\n",
    "    if not X.ndim==1:\n",
    "        raise Exception(\"Array size needs to bigger than 1 dimision\")\n",
    "\n",
    "def L1(X):\n",
    "    checkArraySize(X)\n",
    "    return sum((Xi**2)**0.5 for Xi in X) \n",
    "\n",
    "\n",
    "def L2(X):\n",
    "    checkArraySize(X)\n",
    "    return sum((Xi*Xi) for Xi in X) **(1/2)\n",
    "\n",
    "def L2Dot(X):\n",
    "    return np.sqrt(np.dot(X,X))\n",
    "\n",
    "\n",
    "# Test the function with the following vectors\n",
    "tx=np.array([1, 2, 3, -1])\n",
    "ty=np.array([3,-1, 4,  1])\n",
    "\n",
    "expected_d1=8.0\n",
    "expected_d2=4.242640687119285\n",
    "\n",
    "d1=L1(tx-ty)\n",
    "d2=L2(tx-ty)\n",
    "\n",
    "print(f\"tx-ty={tx-ty}, d1-expected_d1={d1-expected_d1}, d2-expected_d2={d2-expected_d2}\")\n",
    "\n",
    "eps=1E-9 \n",
    "# NOTE: remember to import 'math' for fabs for the next two lines..\n",
    "assert math.fabs(d1-expected_d1)<eps, \"L1 dist seems to be wrong\" \n",
    "assert math.fabs(d2-expected_d2)<eps, \"L2 dist seems to be wrong\" \n",
    "\n",
    "print(\"OK(part-1)\")\n",
    "\n",
    "# comment-in once your L2Dot fun is ready...\n",
    "d2dot=L2Dot(tx-ty)\n",
    "print(\"d2dot-expected_d2=\",d2dot-expected_d2)\n",
    "assert math.fabs(d2dot-expected_d2)<eps, \"L2Ddot dist seem to be wrong\" \n",
    "print(\"OK(part-2)\")"
   ]
  },
  {
   "cell_type": "markdown",
   "metadata": {},
   "source": [
    "## The cost function, $J$\n",
    "### Qc Construct the Root Mean Square Error (RMSE) function (Equation 2-1 [HOML]).\n",
    "\n",
    "We will here show how to call the function Root Mean Square Error (RMSE), by using the $\\bX$ matrix and $\\by$ from Qa. \n",
    "There will be implemented a dummy hypothesis function. With this function we will be taking the first column of $\\bX$ as its 'prediction'\n",
    "\n",
    "$$\n",
    "    h\\st{dummy}(\\bX) = \\bX(:,0)\n",
    "$$\n",
    "\n",
    "We will be calling the '''L2''' function that has been implemented internally in RMSE\n"
   ]
  },
  {
   "cell_type": "code",
   "execution_count": 59,
   "metadata": {},
   "outputs": [
    {
     "name": "stdout",
     "output_type": "stream",
     "text": [
      "RMSE=6.576473218982953, diff=2.6645352591003757e-15\n",
      "OK\n"
     ]
    }
   ],
   "source": [
    "def RMSE(X,y):\n",
    "    dif_array = X - y\n",
    "    checkArraySize(dif_array)  \n",
    "    return (L2(dif_array))*0.5\n",
    "        \n",
    "# Dummy h function:\n",
    "def h(X):    \n",
    "    if X.ndim!=2:\n",
    "        raise ValueError(\"excpeted X to be of ndim=2, got ndim=\",X.ndim)\n",
    "    if X.shape[0]==0 or X.shape[1]==0:\n",
    "        raise ValueError(\"X got zero data along the 0/1 axis, cannot continue\")\n",
    "    return X[:,0]\n",
    "\n",
    "# Calls your RMSE() function:\n",
    "r=RMSE(h(X),y)\n",
    "\n",
    "# TEST vector:\n",
    "eps=1E-9\n",
    "expected=6.57647321898295\n",
    "print(f\"RMSE={r}, diff={r-expected}\")\n",
    "assert math.fabs(r-expected)<eps, \"your RMSE dist seems to be wrong\" \n",
    "\n",
    "print(\"OK\")"
   ]
  },
  {
   "cell_type": "markdown",
   "metadata": {},
   "source": [
    "### MAE\n",
    "\n",
    "#### Qd Similar construct the Mean Absolute Error (MAE) function (Equation 2-2 [HOML]) and evaluate it.\n",
    "\n",
    "As we just created a function for the RMSE, we also want to create a function for the Mean Absolute Error (MAE). The MAE will internally use the $\\norm{1}$\n",
    "\n",
    "$$\n",
    "    \\ar{rl}{\n",
    "        \\text{MSE} &= \\frac{1}{n} \\sum_{i=1}^{n} (\\hat{Z}_i-Z_i)^2 = \\frac{1}{n} SS\\\\\n",
    "        \\text{RMSE} &= \\sqrt{\\text{MSE}}\\\n",
    "    }\n",
    "$$\n",
    "  "
   ]
  },
  {
   "cell_type": "code",
   "execution_count": 60,
   "metadata": {},
   "outputs": [
    {
     "name": "stdout",
     "output_type": "stream",
     "text": [
      "MAE=3.75, diff=0.0\n",
      "OK\n"
     ]
    }
   ],
   "source": [
    "def MAE(X,y):\n",
    "    checkArraySize(X)\n",
    "    L1(X-y)\n",
    "    return L1(X-y)/X.size\n",
    "\n",
    "# Calls your MAE function:\n",
    "r=MAE(h(X), y)\n",
    "\n",
    "# TEST vector:\n",
    "expected=3.75\n",
    "print(f\"MAE={r}, diff={r-expected}\")\n",
    "assert math.fabs(r-expected)<eps, \"MAE dist seems to be wrong\" \n",
    "\n",
    "print(\"OK\")"
   ]
  },
  {
   "cell_type": "markdown",
   "metadata": {},
   "source": [
    "## Pythonic Code\n",
    "\n",
    "#### Qe Robust Code \n",
    "\n",
    "We have added error checking code (asserts or exceptions), that checks for right $\\hat\\by$-$\\by$ sizes of the MSE and MAE functions.\n",
    "\n",
    "We have also error checking to all the previously tested L2() and L1() functions. as can be seen in the following code block "
   ]
  },
  {
   "cell_type": "code",
   "execution_count": 61,
   "metadata": {},
   "outputs": [],
   "source": [
    "def checkArraySize(X):\n",
    "    assert X.shape[0]>=0\n",
    "    if not X.ndim==1:\n",
    "        raise Exception(\"Array size needs to bigger than 1 dimision\")\n",
    "\n",
    "def L1(X):\n",
    "    checkArraySize(X)\n",
    "    return sum((Xi**2)**0.5 for Xi in X) \n",
    "\n",
    "\n",
    "def L2(X):\n",
    "    checkArraySize(X)\n",
    "    return sum((Xi*Xi) for Xi in X) **(1/2)\n",
    "\n",
    "def RMSE(X,y):\n",
    "    dif_array = X - y\n",
    "    checkArraySize(dif_array)  \n",
    "    return (L2(dif_array))*0.5\n",
    "\n",
    "def MAE(X,y):\n",
    "    checkArraySize(X)\n",
    "    L1(X-y)\n",
    "    return L1(X-y)/X.size"
   ]
  },
  {
   "cell_type": "markdown",
   "metadata": {},
   "source": [
    "### Qf Conclusion\n"
   ]
  },
  {
   "cell_type": "markdown",
   "metadata": {},
   "source": [
    "In this exercise we have implemented the L1 and L2 distance functions. We have also manually implemented the RMSE and MAE functions without the use of built-in function. We have tested the functions with the given vectors and the results are as expected. This is to learn and become familiar with the formulars and functions. And get a better understanding the math behind the methods often used in Machine Learning. Lastly, we also have learned how to check if the functionality is correct in the functions by adding error checking in our python code."
   ]
  },
  {
   "cell_type": "markdown",
   "metadata": {},
   "source": [
    "# SWMAL Exercise Dummy classifier\n",
    "\n",
    "## Implementing a dummy binary-classifier with fit-predict interface\n",
    "\n",
    "In this exercise we will working with the MNIST data-set and reuse the data loader from Scikit-learn. Next we create a dummy classifier, and compare the results of the SGD and dummy classifiers using the MNIST data.\n",
    "\n",
    "#### Qa  Load and display the MNIST data\n",
    "\n",
    "We will fetch the MNIST data with a `sklearn.datasets.fetch_openml` dataloader interface in Scikit-learn. \n",
    "\n",
    "Two functions are created. One to fetch the data-set and one to plot a single digit. "
   ]
  },
  {
   "cell_type": "code",
   "execution_count": 62,
   "metadata": {},
   "outputs": [
    {
     "name": "stderr",
     "output_type": "stream",
     "text": [
      "c:\\Users\\oscar\\AppData\\Local\\Programs\\Python\\Python311\\Lib\\site-packages\\sklearn\\datasets\\_openml.py:1002: FutureWarning: The default value of `parser` will change from `'liac-arff'` to `'auto'` in 1.4. You can set `parser='auto'` to silence this warning. Therefore, an `ImportError` will be raised from 1.4 if the dataset is dense and pandas is not installed. Note that the pandas parser may return different data types. See the Notes Section in fetch_openml's API doc for details.\n",
      "  warn(\n"
     ]
    },
    {
     "name": "stdout",
     "output_type": "stream",
     "text": [
      "Number of samples: 70000\n",
      "Label of the digit: 4\n"
     ]
    },
    {
     "data": {
      "image/png": "[encoded data removed]",
      "text/plain": [
       "<Figure size 640x480 with 1 Axes>"
      ]
     },
     "metadata": {},
     "output_type": "display_data"
    }
   ],
   "source": [
    "from sklearn.datasets import fetch_openml\n",
    "import matplotlib\n",
    "import matplotlib.pyplot as plt\n",
    "\n",
    "# Function to fetch the MNIST dataset\n",
    "def MNIST_GetDataSet():\n",
    "    X,y = fetch_openml('mnist_784', version=1, return_X_y=True, as_frame = False)\n",
    "    return X,y\n",
    "\n",
    "\n",
    "# Function to plot a digit\n",
    "%matplotlib inline\n",
    "def MNIST_PlotDigit(data):\n",
    "    image = data.reshape(28, 28)\n",
    "    plt.imshow(image, cmap = matplotlib.cm.binary, interpolation=\"nearest\")\n",
    "    plt.axis(\"off\")\n",
    "\n",
    "# Fetches X and y\n",
    "X,y = MNIST_GetDataSet()\n",
    "\n",
    "#Convert to [0;1] via scaling\n",
    "X = X / 255.\n",
    "\n",
    "#Check if data is loaded\n",
    "print(\"Number of samples:\", len(X))\n",
    "\n",
    "\n",
    "digit_to_plot = X[9]  # The index is 9 for the 10th digit (0-based index)\n",
    "\n",
    "#Check what number the image is representing\n",
    "print(\"Label of the digit:\", y[9])\n",
    "\n",
    "MNIST_PlotDigit(digit_to_plot)\n"
   ]
  },
  {
   "cell_type": "markdown",
   "metadata": {},
   "source": [
    "As we can see, a random digit is chosen (9). The image is shown and the y_true is 4."
   ]
  },
  {
   "cell_type": "markdown",
   "metadata": {},
   "source": [
    "#### Qb  Add a Stochastic Gradient Decent [SGD] Classifier\n",
    "In this section we create a train-test data-set for MNIST and use the `SGDClassifier` as done in [HOML].\n",
    "\n",
    "We split the data and run the fit-predict for the classifier using the MNIST data.\n",
    "We will try to predict and identify one-digit. In this example we will try to detect if the image shows the number 5. This “5-detector” will be an example of a binary classifier, capable of distinguishing between just two classes, 5 and non-5.\n",
    "We will also see if there are any missclassified. \n"
   ]
  },
  {
   "cell_type": "code",
   "execution_count": 63,
   "metadata": {},
   "outputs": [
    {
     "name": "stdout",
     "output_type": "stream",
     "text": [
      "X.shape=(70000, 784)\n",
      "Predicted Label: False\n"
     ]
    },
    {
     "data": {
      "image/png": "[encoded data removed]",
      "text/plain": [
       "<Figure size 640x480 with 1 Axes>"
      ]
     },
     "metadata": {},
     "output_type": "display_data"
    },
    {
     "name": "stdout",
     "output_type": "stream",
     "text": [
      "Predicted Label: False\n"
     ]
    },
    {
     "data": {
      "image/png": "[encoded data removed]",
      "text/plain": [
       "<Figure size 640x480 with 1 Axes>"
      ]
     },
     "metadata": {},
     "output_type": "display_data"
    },
    {
     "name": "stdout",
     "output_type": "stream",
     "text": [
      "Predicted Label: False\n"
     ]
    },
    {
     "data": {
      "image/png": "[encoded data removed]",
      "text/plain": [
       "<Figure size 640x480 with 1 Axes>"
      ]
     },
     "metadata": {},
     "output_type": "display_data"
    }
   ],
   "source": [
    "# TODO: add your code here..\n",
    "import numpy as np\n",
    "from sklearn.linear_model import SGDClassifier\n",
    "\n",
    "#reshapes X to 2D array if not already\n",
    "if X.ndim==3:\n",
    "    print(\"reshaping X..\")\n",
    "    assert y.ndim==1\n",
    "    X = X.reshape((X.shape[0],X.shape[1]*X.shape[2]))\n",
    "assert X.ndim==2\n",
    "print(f\"X.shape={X.shape}\") # X.shape= (70000, 784)\n",
    "\n",
    "# Split the data into training and testing sets\n",
    "X_train, X_test, y_train, y_test = X[:60000], X[60000:], y[:60000], y[60000:]\n",
    "\n",
    "# Create binary target variable y_train_5 with the digit '5' as true\n",
    "y_train_5 = (y_train == '5')   # True for all 5s, False for all other digits\n",
    "# Create binary target variable for the testing set\n",
    "y_test_5  = (y_test == '5')\n",
    "\n",
    "# Create a SGDClassifier which will classify if a digit is a 5 or not\n",
    "sgd_clf = SGDClassifier(random_state=42)\n",
    "\n",
    "# Train the classifier using the training data\n",
    "sgd_clf.fit(X_train, y_train_5)\n",
    "\n",
    "y_pred = sgd_clf.predict(X_test)\n",
    "\n",
    "classified_numbers = np.where(y_pred == y_test_5)[0]\n",
    "\n",
    "for number in classified_numbers[:3]:\n",
    "    MNIST_PlotDigit(X_test[number])\n",
    "    # Predict if the digit is a 5 or not\n",
    "    prediction = sgd_clf.predict([X_test[number]])  # Provide the data sample\n",
    "    print(f\"Predicted Label: {prediction[0]}\")\n",
    "    plt.show()\n"
   ]
  },
  {
   "cell_type": "markdown",
   "metadata": {},
   "source": [
    "Given a loop that iterates through the first 3 instances where y_pred = y_test_5 (correctly classified numbers), we see that the predicted labels are consistent with images"
   ]
  },
  {
   "cell_type": "code",
   "execution_count": 64,
   "metadata": {},
   "outputs": [
    {
     "name": "stdout",
     "output_type": "stream",
     "text": [
      "Predicted Label: False\n"
     ]
    },
    {
     "data": {
      "image/png": "[encoded data removed]",
      "text/plain": [
       "<Figure size 640x480 with 1 Axes>"
      ]
     },
     "metadata": {},
     "output_type": "display_data"
    },
    {
     "name": "stdout",
     "output_type": "stream",
     "text": [
      "Predicted Label: False\n"
     ]
    },
    {
     "data": {
      "image/png": "[encoded data removed]",
      "text/plain": [
       "<Figure size 640x480 with 1 Axes>"
      ]
     },
     "metadata": {},
     "output_type": "display_data"
    },
    {
     "name": "stdout",
     "output_type": "stream",
     "text": [
      "Predicted Label: False\n"
     ]
    },
    {
     "data": {
      "image/png": "[encoded data removed]",
      "text/plain": [
       "<Figure size 640x480 with 1 Axes>"
      ]
     },
     "metadata": {},
     "output_type": "display_data"
    }
   ],
   "source": [
    "# Find misclassified instances\n",
    "misclassified_numbers = np.where(y_pred != y_test_5)[0]\n",
    "classified_numbers = np.where(y_pred == y_test_5)[0]\n",
    "\n",
    "for number in misclassified_numbers[:3]:\n",
    "    MNIST_PlotDigit(X_test[number])\n",
    "    prediction = sgd_clf.predict([X_test[number]])  # Provide the data sample\n",
    "    print(f\"Predicted Label: {prediction[0]}\")\n",
    "\n",
    "    plt.show()\n"
   ]
  },
  {
   "cell_type": "markdown",
   "metadata": {},
   "source": [
    "In the same way, we identified some digits that were missclassified. It seems that it is not always precise. "
   ]
  },
  {
   "cell_type": "markdown",
   "metadata": {},
   "source": [
    "#### Qc Implement a dummy binary classifier\n",
    "\n",
    "In this section we try to create a dummy classifier that just classifies every single image in class of the majority, which in this case is the non-5 class.\n",
    "We call the fit-predict on our dummy class and extract the accuract score from the test data."
   ]
  },
  {
   "cell_type": "code",
   "execution_count": 65,
   "metadata": {},
   "outputs": [
    {
     "name": "stdout",
     "output_type": "stream",
     "text": [
      "False\n"
     ]
    },
    {
     "data": {
      "text/plain": [
       "0.9108"
      ]
     },
     "execution_count": 65,
     "metadata": {},
     "output_type": "execute_result"
    }
   ],
   "source": [
    "\n",
    "from sklearn.metrics import accuracy_score\n",
    "import numpy as np\n",
    "\n",
    "class DummyClassifier():\n",
    "    def fit(self, X, y):\n",
    "        # does not require any training, only memorizes the unique classes in y.\n",
    "        self.classes_ = np.unique(y)\n",
    "        self.dummy_class_ = np.argmax(np.bincount(y))  # Select the most frequent class as the dummy class\n",
    "        return self\n",
    "\n",
    "    def predict(self, X):\n",
    "        # Returns array of the same length as X with the dummy class label\n",
    "        return np.full(X.shape[0], fill_value=self.dummy_class_)\n",
    "\n",
    "\n",
    "dummy_clf = DummyClassifier()\n",
    "dummy_clf.fit(X_train, y_train_5) #trains the dummy classifier. Does not do anything\n",
    "y_pred = dummy_clf.predict(X_test)\n",
    "print(any(y_pred)) #predicts if any of the digits is a 5, gives a False\n",
    "\n",
    "accuracy_score(y_test_5, y_pred)\n",
    "#91% accuracy, just like in HOML\n"
   ]
  },
  {
   "cell_type": "markdown",
   "metadata": {},
   "source": [
    "With the dummy class every digit is a non-5. \n",
    "When we extract the accuracy score we get the same score as in HOML. "
   ]
  },
  {
   "cell_type": "markdown",
   "metadata": {},
   "source": [
    "### Qd Conclusion\n",
    "\n",
    "As seen in the exercise we can use the SGDClassifier to train our data-set from MNIST. Through the exercise we can conclude that the train and test fits and has some correct predictions and some incorrect predictions. \n",
    "When testing the performance measures for the classifier it is a bit tricky to evaluate. We see that we get a 91% accuracy score for our DummyClassifier, which only spits a false out for every digit. But because the majority for the digits are non-5 (90% of them), this will then be our score. In this case, the accuracy score does not represent how good/fit our model is at all. We can therefore conclude, that it is not always preferred so use accuracy to define the performance measures when dealing with classifiers. Especially not, in data-sets where some classes are much more frequent than others. \n",
    "\n",
    "\n"
   ]
  },
  {
   "cell_type": "markdown",
   "metadata": {},
   "source": [
    "# SWMAL Exercise Performance metrics\n",
    "In this exercise we will take a look at various ways to evaluate your algorithm using performance metrics. We will do this be recreating some of the well known metric formulas in python functions, and comparing them to the version found in the Sklearn.metrics library. These functions will then be tested on the algorithms from the dummy classifier exercise.\n",
    "\n",
    "<img src=\"https://itundervisning.ase.au.dk/SWMAL/L02/Figs/performance_metrics.jpg\" alt=\"WARNING: could not get image from server\" style=\"width:900px\">\n",
    "\n",
    "The following codebit is copied from the dummy classifier exercise, and will therefore not be described further.\n"
   ]
  },
  {
   "cell_type": "code",
   "execution_count": 66,
   "metadata": {},
   "outputs": [
    {
     "name": "stderr",
     "output_type": "stream",
     "text": [
      "c:\\Users\\oscar\\AppData\\Local\\Programs\\Python\\Python311\\Lib\\site-packages\\sklearn\\datasets\\_openml.py:1002: FutureWarning: The default value of `parser` will change from `'liac-arff'` to `'auto'` in 1.4. You can set `parser='auto'` to silence this warning. Therefore, an `ImportError` will be raised from 1.4 if the dataset is dense and pandas is not installed. Note that the pandas parser may return different data types. See the Notes Section in fetch_openml's API doc for details.\n",
      "  warn(\n"
     ]
    }
   ],
   "source": [
    "from sklearn.datasets import fetch_openml\n",
    "import matplotlib\n",
    "import matplotlib.pyplot as plt\n",
    "from sklearn.linear_model import SGDClassifier\n",
    "from sklearn.metrics import accuracy_score\n",
    "import numpy as np\n",
    "\n",
    "\n",
    "\n",
    "# Function to fetch the MNIST dataset\n",
    "def MNIST_GetDataSet():\n",
    "    X,y = fetch_openml('mnist_784', version=1, return_X_y=True, as_frame = False)\n",
    "    return X,y\n",
    "# Fetches X and y\n",
    "X,y = MNIST_GetDataSet()\n",
    "\n",
    "# Split the data into training and testing sets\n",
    "X_train, X_test, y_train, y_test = X[:60000], X[60000:], y[:60000], y[60000:]\n",
    "\n",
    "# Create binary target variable y_train_5 with the digit '5' as true\n",
    "y_train_5 = (y_train == '5')   # True for all 5s, False for all other digits\n",
    "# Create binary target variable for the testing set\n",
    "y_test_5  = (y_test == '5')\n",
    "\n",
    "# Create a SGDClassifier which will classify if a digit is a 5 or not\n",
    "sgd_clf = SGDClassifier(random_state=42)\n",
    "\n",
    "# Train the classifier using the training data\n",
    "sgd_clf.fit(X_train, y_train_5)\n",
    "#Convert to [0;1] via scaling\n",
    "X = X / 255.\n",
    "y_pred_sdg = sgd_clf.predict(X_test)\n",
    "\n",
    "\n",
    "#Check if data is loaded\n",
    "\n",
    "class DummyClassifier():\n",
    "    def fit(self, X, y):\n",
    "        # does not require any training, only memorizes the unique classes in y.\n",
    "        self.classes_ = np.unique(y)\n",
    "        self.dummy_class_ = np.argmax(np.bincount(y))  # Select the most frequent class as the dummy class\n",
    "        return self\n",
    "\n",
    "    def predict(self, X):\n",
    "        # Returns array of the same length as X with the dummy class label\n",
    "        return np.full(X.shape[0], fill_value=self.dummy_class_)\n",
    "\n",
    "\n",
    "dummy_clf = DummyClassifier()\n",
    "dummy_clf.fit(X_train, y_train_5)\n",
    "y_pred_dummy = dummy_clf.predict(X_test)\n",
    "\n"
   ]
  },
  {
   "cell_type": "markdown",
   "metadata": {},
   "source": [
    "#### Qa Implement the Accuracy function and test it on the MNIST data.\n",
    "\n",
    "an accuracy function will be created called MyAccuracy. It will return how many elements where predicted correctly. Furthermore a test function will be created. This function will use both the selfmade function and the sklearn version for validation. The testfunction will then be used on a simple example, the sdg and the dummy."
   ]
  },
  {
   "cell_type": "code",
   "execution_count": 67,
   "metadata": {},
   "outputs": [
    {
     "name": "stdout",
     "output_type": "stream",
     "text": [
      "\n",
      "TestAccuracy() simple example:\n",
      "\n",
      "my a          =0.75\n",
      "scikit-learn a=0.75\n",
      "\n",
      "TestAccuracy() on sdg:\n",
      "\n",
      "my a          =0.9492\n",
      "scikit-learn a=0.9492\n",
      "\n",
      "TestAccuracy() on dummy:\n",
      "\n",
      "my a          =0.9108\n",
      "scikit-learn a=0.9108\n"
     ]
    }
   ],
   "source": [
    "# TODO: Qa...\n",
    "from sklearn.metrics import accuracy_score\n",
    "\n",
    "\n",
    "def MyAccuracy(y_true, y_pred):\n",
    "    if len(y_true)==0 or len(y_pred)==0:\n",
    "        return 0\n",
    "    y_correctPred=[]\n",
    "    for i in range(len(y_true)):\n",
    "        if y_true[i]==y_pred[i]:\n",
    "            y_correctPred.append(y_pred[i])\n",
    "    return len(y_correctPred)/len(y_true)\n",
    "\n",
    "\n",
    "    \n",
    "# TEST FUNCTION: example of a comperator, using Scikit-learn accuracy_score\n",
    "def TestAccuracy(y_true, y_pred):\n",
    "    if len(y_true) != len(y_pred):\n",
    "      print(\"Error: Input arrays have different lengths.\")\n",
    "      return\n",
    "    a0=MyAccuracy(y_true, y_pred)\n",
    "    a1=accuracy_score(y_true, y_pred)\n",
    "\n",
    "    print(f\"\\nmy a          ={a0}\")\n",
    "    print(f\"scikit-learn a={a1}\")\n",
    "\n",
    "print(\"\\nTestAccuracy() simple example:\")\n",
    "TestAccuracy([1,2,3,4], [1,2,3,3])\n",
    "\n",
    "print(\"\\nTestAccuracy() on sdg:\")\n",
    "TestAccuracy(y_test_5, y_pred_sdg)\n",
    "print(\"\\nTestAccuracy() on dummy:\")\n",
    "TestAccuracy(y_test_5, y_pred_dummy)\n",
    "\n",
    "#    # do some numerical comparison here, like\n",
    "#    #  if fabs(a0-a1)<eps then .."
   ]
  },
  {
   "cell_type": "markdown",
   "metadata": {},
   "source": [
    "#### Qb Implement Precision, Recall and $F_1$-score and test it on the MNIST data for both the SGD and Dummy classifier models\n",
    "\n",
    "In the following section a function and test function is created in the same way as with the previous function from Qa. This is done for the precision-, recall- and F1-score respectively.  "
   ]
  },
  {
   "cell_type": "code",
   "execution_count": 68,
   "metadata": {},
   "outputs": [
    {
     "name": "stdout",
     "output_type": "stream",
     "text": [
      "\n",
      "TestPrecision() simple example:\n",
      "\n",
      "my p        =0.6666666666666666\n",
      "scikit-learn p=0.6666666666666666\n",
      "\n",
      "TestPrecision() on sdg:\n",
      "\n",
      "my p        =0.6618887015177066\n",
      "scikit-learn p=0.6618887015177066\n",
      "\n",
      "TestPrecision() on dummy:\n",
      "\n",
      "my p        =0\n",
      "scikit-learn p=0.0\n"
     ]
    },
    {
     "name": "stderr",
     "output_type": "stream",
     "text": [
      "c:\\Users\\oscar\\AppData\\Local\\Programs\\Python\\Python311\\Lib\\site-packages\\sklearn\\metrics\\_classification.py:1469: UndefinedMetricWarning: Precision is ill-defined and being set to 0.0 due to no predicted samples. Use `zero_division` parameter to control this behavior.\n",
      "  _warn_prf(average, modifier, msg_start, len(result))\n"
     ]
    }
   ],
   "source": [
    "# TODO: Qb..\n",
    "import sklearn.metrics as metrics\n",
    "def MyPrecision(y_true, y_pred):\n",
    "    #predicted condition positive. All the predicted trues\n",
    "    pcp = [item for item in y_pred if item == True]\n",
    "    if len(pcp)==0:\n",
    "        return 0\n",
    "    y_correctPred=[]\n",
    "    for i in range(len(y_true)):\n",
    "        if y_true[i]==True and y_pred[i]==True:\n",
    "            y_correctPred.append(y_pred[i])\n",
    "    return len(y_correctPred)/len(pcp)\n",
    "\n",
    "def TestPrecision(y_true, y_pred):\n",
    "    if len(y_true) != len(y_pred):\n",
    "      print(\"Error: Input arrays have different lengths.\")\n",
    "      return\n",
    "    p0=MyPrecision(y_true, y_pred)\n",
    "    p1=metrics.precision_score(y_true, y_pred)\n",
    "\n",
    "    print(f\"\\nmy p        ={p0}\")\n",
    "    print(f\"scikit-learn p={p1}\")\n",
    "\n",
    "print(\"\\nTestPrecision() simple example:\")\n",
    "TestPrecision([True,True,False,True], [True,True,True,False])\n",
    "print(\"\\nTestPrecision() on sdg:\")\n",
    "TestPrecision(y_test_5, y_pred_sdg)\n",
    "print(\"\\nTestPrecision() on dummy:\")\n",
    "TestPrecision(y_test_5, y_pred_dummy)\n",
    "\n",
    "\n",
    "\n",
    "\n",
    "    \n"
   ]
  },
  {
   "cell_type": "markdown",
   "metadata": {},
   "source": [
    "the precision metric can be used to identify the ratio between true positives and false positives. We see in the simple example that the methods filter out the predicted false, and just evaluates the 3 trues. This results in a score of 66% since one is a false positive. By using it on the data from the dummy exercise we furthermore see that the dummy get 0% because it only guesses false and the SDG get about 2/3. This means that about 1/3 of the numbers the algorithm thinks is a five actually arent a 5. In the real world this would be horrible if it fx was used to convict crimminals where you are innocent until proven guilty."
   ]
  },
  {
   "cell_type": "code",
   "execution_count": 69,
   "metadata": {},
   "outputs": [
    {
     "name": "stdout",
     "output_type": "stream",
     "text": [
      "\n",
      "TestRecall() simple example:\n",
      "\n",
      "my r        =0.75\n",
      "scikit-learn r=0.75\n",
      "\n",
      "TestRecall() on sdg:\n",
      "\n",
      "my r        =0.8800448430493274\n",
      "scikit-learn r=0.8800448430493274\n",
      "\n",
      "TestRecall() on dummy:\n",
      "\n",
      "my r        =0.0\n",
      "scikit-learn r=0.0\n"
     ]
    }
   ],
   "source": [
    "def MyRecall(y_true, y_pred):\n",
    "    #condition positive\n",
    "    cp = [item for item in y_true if item == True]\n",
    "    if len(cp)==0:\n",
    "        return 0\n",
    "    y_correctPred=[]\n",
    "    for i in range(len(y_true)):\n",
    "        if y_true[i]==True and y_pred[i]==True:\n",
    "            y_correctPred.append(y_pred[i])\n",
    "    return len(y_correctPred)/len(cp)\n",
    "\n",
    "def TestRecall(y_true, y_pred):\n",
    "    if len(y_true) != len(y_pred):\n",
    "      print(\"Error: Input arrays have different lengths.\")\n",
    "      return\n",
    "    r0=MyRecall(y_true, y_pred)\n",
    "    r1=metrics.recall_score(y_true, y_pred)\n",
    "\n",
    "    print(f\"\\nmy r        ={r0}\")\n",
    "    print(f\"scikit-learn r={r1}\")\n",
    "\n",
    "print(\"\\nTestRecall() simple example:\")\n",
    "TestRecall([True,True,True,True], [True,True,True,False])\n",
    "print(\"\\nTestRecall() on sdg:\")\n",
    "TestRecall(y_test_5, y_pred_sdg)\n",
    "print(\"\\nTestRecall() on dummy:\")\n",
    "TestRecall(y_test_5, y_pred_dummy)"
   ]
  },
  {
   "cell_type": "markdown",
   "metadata": {},
   "source": [
    "The recall metric tells us about the ratio between true positives and false negatives. Through this metric we can observe how many positives fall through and therefore aren't noticed by the algorithm. \n",
    "The results show us that the sdg-is quite good at finding the 5's very few 5's slip through the algorithm even though it also identifies some numbers as 5's that arent 5's.\n",
    "In the real world it would be important in fx sickness detection where it is important to find and treat all the cases and it is probably fine if a a few false positives are sent through further investigation."
   ]
  },
  {
   "cell_type": "code",
   "execution_count": 70,
   "metadata": {},
   "outputs": [
    {
     "name": "stdout",
     "output_type": "stream",
     "text": [
      "\n",
      "TestF1Score() simple example:\n",
      "\n",
      "my f        =0.4\n",
      "scikit-learn f=0.4\n",
      "\n",
      "TestF1Score() on sdg:\n",
      "\n",
      "my f        =0.7555341674687199\n",
      "scikit-learn f=0.75553416746872\n",
      "\n",
      "TestF1Score() on dummy:\n",
      "\n",
      "my f        =0\n",
      "scikit-learn f=0.0\n"
     ]
    }
   ],
   "source": [
    "def MyF1Score(y_true, y_pred):\n",
    "    p = MyPrecision(y_true, y_pred)\n",
    "\n",
    "    r = MyRecall(y_true, y_pred)\n",
    "    if p==0 or r==0:\n",
    "        return 0\n",
    "    return 2/((1/p)+(1/r))\n",
    "\n",
    "def TestF1Score(y_true, y_pred):\n",
    "    if len(y_true) != len(y_pred):\n",
    "      print(\"Error: Input arrays have different lengths.\")\n",
    "      return\n",
    "    f0=MyF1Score(y_true, y_pred)\n",
    "    f1=metrics.f1_score(y_true, y_pred)\n",
    "\n",
    "    print(f\"\\nmy f        ={f0}\")\n",
    "    print(f\"scikit-learn f={f1}\")\n",
    "\n",
    "print(\"\\nTestF1Score() simple example:\")\n",
    "TestF1Score([True,True,False,True], [True,False,True,False])\n",
    "print(\"\\nTestF1Score() on sdg:\")\n",
    "TestF1Score(y_test_5, y_pred_sdg)\n",
    "print(\"\\nTestF1Score() on dummy:\")\n",
    "TestF1Score(y_test_5, y_pred_dummy)"
   ]
  },
  {
   "cell_type": "markdown",
   "metadata": {},
   "source": [
    "The F1 score takes both the recall, and the precision into account which means the sdg-score lands somewhere between the two scores. Through this metric we identify how often false positives and false negatives occur without looking at the true negatives."
   ]
  },
  {
   "cell_type": "markdown",
   "metadata": {},
   "source": [
    "#### Qc The Confusion Matrix\n",
    "In this section we will construct 3 confusion matrices. One for the both the sdg and the dummy, aswell as one where the input params are switched for the sdg confusion matrices."
   ]
  },
  {
   "cell_type": "code",
   "execution_count": 71,
   "metadata": {},
   "outputs": [
    {
     "name": "stdout",
     "output_type": "stream",
     "text": [
      "sdg:\n",
      "[[8707  401]\n",
      " [ 107  785]]\n",
      "\n",
      "dummy:\n",
      "[[9108    0]\n",
      " [ 892    0]]\n",
      "\n",
      "sdg reversed:\n",
      "[[8707  107]\n",
      " [ 401  785]]\n"
     ]
    }
   ],
   "source": [
    "# TODO: Qc\n",
    "from sklearn.metrics import confusion_matrix\n",
    "cm_sdg = confusion_matrix(y_test_5, y_pred_sdg)\n",
    "cm_sdg_reversed = confusion_matrix(y_pred_sdg, y_test_5)\n",
    "\n",
    "\n",
    "cm_dummy = confusion_matrix(y_test_5, y_pred_dummy)\n",
    "print(\"sdg:\")\n",
    "print(cm_sdg)\n",
    "\n",
    "print(\"\\ndummy:\")\n",
    "print(cm_dummy)\n",
    "\n",
    "print(\"\\nsdg reversed:\")\n",
    "print(cm_sdg_reversed)"
   ]
  },
  {
   "cell_type": "markdown",
   "metadata": {},
   "source": [
    "In the above results we can see the matrices follow the binary system where 0=false and 1=true. From the dummy matrix we can gather the columns are the predicted values since there are none in column 1 (0-indexed) and there fore the rows must be the true condition. This means the first spot is the true negatives and that adds up with what is known about the dummys result so far. \n",
    "Furthermore we see that if we swap the input parameters the false positives and true negatives swap places, effectively transposing the matrix. But the accuracy stays the same. "
   ]
  },
  {
   "cell_type": "markdown",
   "metadata": {},
   "source": [
    "#### Qd A Confusion Matrix Heat-map\n",
    "\n",
    "Now we will generate a heat map for this confusion matrices."
   ]
  },
  {
   "cell_type": "code",
   "execution_count": 72,
   "metadata": {},
   "outputs": [
    {
     "data": {
      "image/png": "[encoded data removed]",
      "text/plain": [
       "<Figure size 640x480 with 2 Axes>"
      ]
     },
     "metadata": {},
     "output_type": "display_data"
    },
    {
     "data": {
      "image/png": "[encoded data removed]",
      "text/plain": [
       "<Figure size 640x480 with 2 Axes>"
      ]
     },
     "metadata": {},
     "output_type": "display_data"
    }
   ],
   "source": [
    "from sklearn.metrics import ConfusionMatrixDisplay\n",
    "\n",
    "plt.rc('font', size=9)  # extra code – make the text smaller\n",
    "ConfusionMatrixDisplay.from_predictions(y_test_5,y_pred_dummy) \n",
    "plt.show()\n",
    "\n",
    "ConfusionMatrixDisplay.from_predictions(y_test_5,y_pred_sdg)\n",
    "plt.show()"
   ]
  },
  {
   "cell_type": "markdown",
   "metadata": {},
   "source": [
    "### Qe Conclusion\n",
    "\n",
    "In this exercise, we evaluated classification algorithms using custom Python metrics and scikit-learn's functions. We assessed precision, accuracy, recall, and the F1-score for an SGD classifier and a Dummy classifier. The SGD classifier outperformed the Dummy classifier in all metrics. However the dummy clasifier was significantly closer in accuracy. Therefore this exercise was meant to show us some important metrics to use when evaluating your algorithm. These metrics are of course use case specific. Fx it could be a good idea to have a high precision when judging criminals or have a high recall/sensitivity when scanning for diseases. Furthermore the F1-score is usefull if you don't care as much about the true negatives as it takes both into account. As is the case for the \"is it a 5?\"-algorithm and therefore the F1 provides us with a more accurate assesment of how useful the sdg algorithm and dummy-classifier are with thier ~75% and 0% respectively \n",
    "\n",
    " Furthermore Confusion matrices and heatmaps provided detailed insights into their performance, and granted us a good visual component for the metrics. These will be important further in the course when we analyze more complex systems with more parameters. "
   ]
  }
 ],
 "metadata": {
  "kernelspec": {
   "display_name": "Python 3 (ipykernel)",
   "language": "python",
   "name": "python3"
  },
  "language_info": {
   "codemirror_mode": {
    "name": "ipython",
    "version": 3
   },
   "file_extension": ".py",
   "mimetype": "text/x-python",
   "name": "python",
   "nbconvert_exporter": "python",
   "pygments_lexer": "ipython3",
   "version": "3.11.5"
  },
  "nav_menu": {},
  "toc": {
   "navigate_menu": true,
   "number_sections": true,
   "sideBar": true,
   "threshold": 6,
   "toc_cell": false,
   "toc_section_display": "block",
   "toc_window_display": true
  },
  "toc-autonumbering": true,
  "toc-showcode": true,
  "toc-showmarkdowntxt": true,
  "toc_position": {
   "height": "616px",
   "left": "0px",
   "right": "20px",
   "top": "106px",
   "width": "213px"
  },
  "varInspector": {
   "cols": {
    "lenName": 16,
    "lenType": 16,
    "lenVar": 40
   },
   "kernels_config": {
    "python": {
     "delete_cmd_postfix": "",
     "delete_cmd_prefix": "del ",
     "library": "var_list.py",
     "varRefreshCmd": "print(var_dic_list())"
    },
    "r": {
     "delete_cmd_postfix": ") ",
     "delete_cmd_prefix": "rm(",
     "library": "var_list.r",
     "varRefreshCmd": "cat(var_dic_list()) "
    }
   },
   "types_to_exclude": [
    "module",
    "function",
    "builtin_function_or_method",
    "instance",
    "_Feature"
   ],
   "window_display": false
  }
 },
 "nbformat": 4,
 "nbformat_minor": 4
}
