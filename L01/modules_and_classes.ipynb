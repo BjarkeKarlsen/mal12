{
 "cells": [
  {
   "cell_type": "markdown",
   "metadata": {},
   "source": [
    "# SWMAL Exercise\n",
    "\n",
    "## Python Basics\n",
    "\n",
    "### Modules and Packages in Python\n",
    "\n",
    "#### Qa Load and test the `libitmal` module\n",
    "There will in this chapter decribes how to load and test modules. Firstly you have to import sys and os for being allowed to workd with the  system and the operation system. Here you will load the gitmal package. The import can be done a few different ways and in the example below the expandvars will be used. We could not get the expanduser to work. You can see below that we print of the path and the files."
   ]
  },
  {
   "cell_type": "code",
   "execution_count": 20,
   "metadata": {},
   "outputs": [
    {
     "name": "stdout",
     "output_type": "stream",
     "text": [
      "['AssertInRange', 'CheckFloat', 'DToXy', 'GenerateConfusionMatrix', 'GenerateResults', 'InRange', 'Iterable', 'ListToMatrix', 'ListToVector', 'PrintMatrix', 'ResetRandom', 'ShowResult', 'TEST', 'TestAll', 'TestCheckFloat', 'TestPrintMatrix', 'TestVarName', 'VarName', 'XyToD', '__builtins__', '__cached__', '__doc__', '__file__', '__loader__', '__name__', '__package__', '__spec__', 'ctxlib', 'inf', 'inspect', 'isFloat', 'isList', 'isNumpyArray', 'nan', 'np', 'random', 're', 'sklearn']\n",
      "C:\\Users\\Bjark\\source\\repos\\MAL\\gitmal\\libitmal\\utils.py\n"
     ]
    }
   ],
   "source": [
    "import sys,os\n",
    "sys.path.append(os.path.expandvars(R\"C:\\Users\\Bjark\\source\\repos\\MAL\\gitmal\"))\n",
    "\n",
    "from libitmal import utils as itmalutils\n",
    "print(dir(itmalutils))\n",
    "print(itmalutils.__file__)"
   ]
  },
  {
   "cell_type": "markdown",
   "metadata": {},
   "source": [
    "#### Qb Create your own module, with some functions, and test it\n",
    "\n",
    "Here we create our own module. The module is places inside the mal12, which is our github folder. This will make it easy to collaborate and will be push every time changed are made. Creating our module is done by creating two files. The \"__init__.py\" and \"utils.py\" "
   ]
  },
  {
   "cell_type": "code",
   "execution_count": 20,
   "metadata": {},
   "outputs": [
    {
     "name": "stdout",
     "output_type": "stream",
     "text": [
      "['L1', 'L2', 'L2Dot', '__builtins__', '__cached__', '__doc__', '__file__', '__loader__', '__name__', '__package__', '__spec__', 'checkArraySize', 'checkArraySizeCoantainsElements', 'np']\n",
      "C:\\Users\\Bjark\\source\\repos\\MAL\\mal12\\UtilsMAL\\utils.py\n",
      "The answer for the L1: 12.0\n"
     ]
    }
   ],
   "source": [
    "import sys,os\n",
    "import numpy as np\n",
    "sys.path.append(os.path.expandvars(R\"C:\\Users\\Bjark\\source\\repos\\MAL\\mal12\"))\n",
    "\n",
    "from UtilsMAL import utils as myUtils\n",
    "print(dir(myUtils))\n",
    "print(myUtils.__file__)\n",
    "\n",
    "L1= myUtils.L1\n",
    "\n",
    "dummy = np.array([3,4,5])\n",
    "print(f\"The answer for the L1: {L1(dummy)}\")"
   ]
  },
  {
   "cell_type": "markdown",
   "metadata": {},
   "source": [
    "#### Qc How do you 'recompile' a module?\n",
    "\n",
    "If you are using the Visual Studie Code the reloading works out-of-the-box. However, this is not the same for Jupyter Notebook. In Jupyter you have to either use the importlib or use a smart syntax for autoreload. The information is found at: [Jupyter Notebook Reload Module: A Comprehensive Guide](https://saturncloud.io/blog/jupyter-notebook-reload-module-a-comprehensive-guide/). Below you can see the different ways to reload. For autoreaload, when the parameter is set to 2 it load on every reload."
   ]
  },
  {
   "cell_type": "code",
   "execution_count": 22,
   "metadata": {},
   "outputs": [
    {
     "data": {
      "text/plain": [
       "<module 'UtilsMAL.utils' from 'C:\\\\Users\\\\Bjark\\\\source\\\\repos\\\\MAL\\\\mal12\\\\UtilsMAL\\\\utils.py'>"
      ]
     },
     "execution_count": 22,
     "metadata": {},
     "output_type": "execute_result"
    }
   ],
   "source": [
    "import importlib\n",
    "importlib.reload(myUtils)\n",
    "\n",
    "# Auto reload\n",
    "%load_ext autoreload\n",
    "%autoreload 2"
   ]
  },
  {
   "cell_type": "markdown",
   "metadata": {},
   "source": [
    "#### [OPTIONAL] Qd Write a Howto on Python Modules a Packages\n",
    "\n",
    "Write a short description of how to use modules in Python (notes on modules path, import directives, directory structure, etc.)"
   ]
  },
  {
   "cell_type": "markdown",
   "metadata": {},
   "source": [
    "In this chapter we will look into creating our own library. Firstly create a new folder and name is UtilsMal. Inside this  Now will create two files. Them first file called \"__init__.py\" and the second utils\n"
   ]
  },
  {
   "cell_type": "markdown",
   "metadata": {},
   "source": [
    "### Classes in Python\n",
    "\n",
    "#### Qe Extend the class with some public and private functions and member variables\n",
    "\n",
    "For creating a class in python you will often see the keyword self. It is the representation of the instance of the class. The \"self\" keyword is be renamed, but the convention is self. If you forget the \"self\" keyword the class will be static. A static class are not allowed to call the members of the class or make a instance of the class. In the codesnippets below you can observe the `def myfun():` where self is forgotten. IF you run the code you will get the error: `TypeError: MyClass.myfun() takes 0 positional arguments but 1 was given`. The error is because a instance `myobjectx`  of MyClass is made and it attempt to call the `myobjectx.myfun()` Python will raise a the error, because it is excepting one argument \"self\". "
   ]
  },
  {
   "cell_type": "code",
   "execution_count": null,
   "metadata": {},
   "outputs": [],
   "source": [
    "class MyClass:\n",
    "    def myfun():\n",
    "        myvar = \"blah\" # NOTE: a per class-instance variable.\n",
    "        print(f\"This is a message inside the class, myvar={myvar}.\")\n",
    "\n",
    "myobjectx = MyClass()\n",
    "print(myobjectx.myfun())"
   ]
  },
  {
   "cell_type": "markdown",
   "metadata": {},
   "source": [
    "Member are public when there is non underscore before the variable. If there are one underscore the member are protected. Private if two underscores. The function are private if you use a single underscore as a prefix to their name. "
   ]
  },
  {
   "cell_type": "code",
   "execution_count": 47,
   "metadata": {},
   "outputs": [
    {
     "name": "stdout",
     "output_type": "stream",
     "text": [
      "This is a message inside the class, myvar=nontext.\n",
      "None\n",
      "Static instance\n"
     ]
    },
    {
     "ename": "TypeError",
     "evalue": "MyClass.myfun() takes 0 positional arguments but 1 was given",
     "output_type": "error",
     "traceback": [
      "\u001b[1;31m---------------------------------------------------------------------------\u001b[0m",
      "\u001b[1;31mTypeError\u001b[0m                                 Traceback (most recent call last)",
      "\u001b[1;32mc:\\Users\\Bjark\\source\\repos\\MAL\\gitmal\\L01\\modules_and_classes.ipynb Cell 10\u001b[0m line \u001b[0;36m2\n\u001b[0;32m     <a href='vscode-notebook-cell:/c%3A/Users/Bjark/source/repos/MAL/gitmal/L01/modules_and_classes.ipynb#X12sZmlsZQ%3D%3D?line=22'>23</a>\u001b[0m         \u001b[39mprint\u001b[39m(\u001b[39mf\u001b[39m\u001b[39m\"\u001b[39m\u001b[39mThis is a message inside the class, myvar=\u001b[39m\u001b[39m{\u001b[39;00mmyvar\u001b[39m}\u001b[39;00m\u001b[39m.\u001b[39m\u001b[39m\"\u001b[39m)\n\u001b[0;32m     <a href='vscode-notebook-cell:/c%3A/Users/Bjark/source/repos/MAL/gitmal/L01/modules_and_classes.ipynb#X12sZmlsZQ%3D%3D?line=24'>25</a>\u001b[0m myobjectx \u001b[39m=\u001b[39m MyClass()\n\u001b[1;32m---> <a href='vscode-notebook-cell:/c%3A/Users/Bjark/source/repos/MAL/gitmal/L01/modules_and_classes.ipynb#X12sZmlsZQ%3D%3D?line=25'>26</a>\u001b[0m \u001b[39mprint\u001b[39m(myobjectx\u001b[39m.\u001b[39;49mmyfun())\n",
      "\u001b[1;31mTypeError\u001b[0m: MyClass.myfun() takes 0 positional arguments but 1 was given"
     ]
    }
   ],
   "source": []
  },
  {
   "cell_type": "markdown",
   "metadata": {},
   "source": [
    "#### Qf Extend the class with a Constructor\n",
    "\n",
    "The constructor in Python is defined using the `__init__` method. The the constructor  take the parameter `self` and can be add more to parameter if needed. If you dont want a class the need a contructor, you can create a static class. The destructor in Python is ofte referred as `__del__` or `__del1__`. The destructor is used to define behavior that occurs when an object is about to be destroyed or garbage collected.   "
   ]
  },
  {
   "cell_type": "code",
   "execution_count": null,
   "metadata": {},
   "outputs": [],
   "source": [
    "class NewClass:\n",
    "    def fun():\n",
    "        return (\"Static instance\"); # private instance attribute\n",
    "\n",
    "print(NewClass.fun());"
   ]
  },
  {
   "cell_type": "code",
   "execution_count": null,
   "metadata": {},
   "outputs": [],
   "source": [
    "class MyClass:\n",
    "    def __init__(self, text):\n",
    "        self.__myvar=text  # private instance attribute\n",
    "\n",
    "    def myfun(self, text):\n",
    "        vs = text\n",
    "        print(f\"This is a message inside the class, myvar={vs}.\")\n",
    "\n",
    "myobjectx = MyClass(\"text\")\n",
    "\n",
    "print(myobjectx.myfun(\"nontext\"))"
   ]
  },
  {
   "cell_type": "markdown",
   "metadata": {},
   "source": [
    "#### Qg Extend the class with a to-string function\n",
    "\n",
    "Then find a way to serialize a class, that is to make some `tostring()` functionality similar to a C++ \n",
    "\n",
    "```C++\n",
    "friend ostream& operator<<(ostream& s,const MyClass& x)\n",
    "{\n",
    "    return os << ..\n",
    "}\n",
    "```\n",
    "\n",
    "If you do not know C++, you might be aware of the C# way to string serialize\n",
    "```\n",
    "    string s=myobject.tostring()\n",
    "```\n",
    "that is a per-class buildin function `tostring()`, now what is the pythonic way of 'printing' a class instance?"
   ]
  },
  {
   "cell_type": "code",
   "execution_count": null,
   "metadata": {},
   "outputs": [],
   "source": [
    "class MyClass:\n",
    "    def __init__(self, text):\n",
    "        self.__myvar=text  # private instance attribute\n",
    "\n",
    "    def myfun(self, text):\n",
    "        vs = text\n",
    "        print(f\"This is a message inside the class, myvar={vs}.\")\n",
    "    \n",
    "    def tostring(self):\n",
    "        \n",
    "\n",
    "myobjectx = MyClass(\"text\")\n",
    "\n",
    "print(myobjectx.myfun(\"nontext\"))"
   ]
  },
  {
   "cell_type": "markdown",
   "metadata": {},
   "source": [
    "#### [OPTIONAL] Qh Write a Howto on Python Classes \n",
    "\n",
    "Write a _How-To use Classes Pythonically_, including a description of public/privacy, constructors/destructors, the meaning of `self`, and inheritance."
   ]
  },
  {
   "cell_type": "code",
   "execution_count": null,
   "metadata": {},
   "outputs": [],
   "source": [
    "# TODO: Qh..."
   ]
  },
  {
   "cell_type": "markdown",
   "metadata": {},
   "source": [
    "## Administration\n",
    "\n",
    "REVISIONS||\n",
    ":- | :- |\n",
    "2018-12-19| CEF, initial.                  \n",
    "2018-02-06| CEF, updated and spell checked. \n",
    "2018-02-07| CEF, made Qh optional.\n",
    "2018-02-08| CEF, added PYTHONPATH for windows.\n",
    "2018-02-12| CEF, small mod in itmalutils/utils.\n",
    "2019-08-20| CEF, E19 ITMAL update.\n",
    "2020-01-25| CEF, F20 ITMAL update.\n",
    "2020-08-06| CEF, E20 ITMAL update, udpated figs paths.\n",
    "2020-09-07| CEF, added text on OPRG and OOP for EE's\n",
    "2020-09-29| CEF, added elaboration for journal in Qa+b.\n",
    "2021-02-06| CEF, fixed itmalutils.TestAll() in markdown cell.\n",
    "2021-08-02| CEF, update to E21 ITMAL.\n",
    "2022-01-25| CEF, update to F22 SWMAL.\n",
    "2022-02-25| CEF, elaborated on setx.exe on Windows and MAC PYTHONPATH.\n",
    "2022-08-30| CEF, updated to v1 changes.\n",
    "2022-09-16| CEF, added comment on module reloading when not using notebooks.\n",
    "2023-08-30| CEF, minor table and text update."
   ]
  }
 ],
 "metadata": {
  "kernelspec": {
   "display_name": "Python 3 (ipykernel)",
   "language": "python",
   "name": "python3"
  },
  "language_info": {
   "codemirror_mode": {
    "name": "ipython",
    "version": 3
   },
   "file_extension": ".py",
   "mimetype": "text/x-python",
   "name": "python",
   "nbconvert_exporter": "python",
   "pygments_lexer": "ipython3",
   "version": "3.10.12"
  },
  "varInspector": {
   "cols": {
    "lenName": 16,
    "lenType": 16,
    "lenVar": 40
   },
   "kernels_config": {
    "python": {
     "delete_cmd_postfix": "",
     "delete_cmd_prefix": "del ",
     "library": "var_list.py",
     "varRefreshCmd": "print(var_dic_list())"
    },
    "r": {
     "delete_cmd_postfix": ") ",
     "delete_cmd_prefix": "rm(",
     "library": "var_list.r",
     "varRefreshCmd": "cat(var_dic_list()) "
    }
   },
   "position": {
    "height": "144.517px",
    "left": "666px",
    "right": "20px",
    "top": "425px",
    "width": "350px"
   },
   "types_to_exclude": [
    "module",
    "function",
    "builtin_function_or_method",
    "instance",
    "_Feature"
   ],
   "window_display": true
  }
 },
 "nbformat": 4,
 "nbformat_minor": 4
}
