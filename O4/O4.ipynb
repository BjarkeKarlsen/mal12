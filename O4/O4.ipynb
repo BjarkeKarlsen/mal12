{
 "cells": [
  {
   "cell_type": "markdown",
   "metadata": {},
   "source": [
    "# O4\n",
    "\n",
    "## Problem\n",
    "DONE! - dataanalyse\n",
    "\n",
    "## Datasæt \n",
    "DONE! - dataanalyse\n",
    "\n",
    "# Valg af ML\n",
    "* Bruger supervised learning\n",
    "* Bruger CNN da det er billede data\n",
    "* Bruger categorical_crossentropy algorith, da vi har flere kategorier eller SparseCategoricalCrossentropy\n",
    "* Maybe need preprocessed\n",
    "* Hvordan forholder vi os til over and underfitting\n",
    "* RandomGridSearch?\n",
    "\n",
    "https://www.analyticsvidhya.com/blog/2020/02/learn-image-classification-cnn-convolutional-neural-networks-3-datasets/\n",
    "\n",
    "https://www.tensorflow.org/tutorials/images/classification\n",
    "```\n",
    "model.add(Conv2D(125, kernel_size=(3,3), strides=(1,1), padding='same', activation='relu'))\n",
    "model.add(MaxPool2D(pool_size=(2,2)))\n",
    "model.add(Dropout(0.25))\n",
    "# compiling the sequential model\n",
    "model.compile(loss='categorical_crossentropy', metrics=['accuracy'], optimizer='adam')\n",
    "```\n",
    "\n",
    "https://towardsdatascience.com/the-4-convolutional-neural-network-models-that-can-classify-your-fashion-images-9fe7f3e5399d"
   ]
  },
  {
   "cell_type": "code",
   "execution_count": null,
   "metadata": {},
   "outputs": [],
   "source": [
    "#make function to fetch dataset\n",
    "\n",
    "import cv2\n",
    "import os\n",
    "import numpy as np\n",
    "import matplotlib.pyplot as plt\n",
    "\n",
    "\n",
    "def getDataSet(categories: list, folder: str):\n",
    "    images = []\n",
    "    labels = []\n",
    "    for category in categories:\n",
    "        folder_path = os.path.join(folder, category)\n",
    "        label = categories.index(category)  # Assign a numerical label to each category\n",
    "        for filename in os.listdir(folder_path):\n",
    "            if filename.endswith(\".jpg\"):\n",
    "                img_path = os.path.join(folder_path, filename)\n",
    "                img = cv2.imread(img_path)\n",
    "                if img is not None:\n",
    "                    img = cv2.resize(img, (128, 128))  # Resize to a common size\n",
    "                    img = img / 255.0  # Normalize pixel values to [0, 1]\n",
    "                    images.append(img)\n",
    "                    labels.append(label)\n",
    "                else:\n",
    "                    print(f\"Failed to load image: {img_path}\")\n",
    "    return images, labels\n",
    "\n",
    "\n"
   ]
  }
 ],
 "metadata": {
  "language_info": {
   "name": "python"
  }
 },
 "nbformat": 4,
 "nbformat_minor": 2
}
